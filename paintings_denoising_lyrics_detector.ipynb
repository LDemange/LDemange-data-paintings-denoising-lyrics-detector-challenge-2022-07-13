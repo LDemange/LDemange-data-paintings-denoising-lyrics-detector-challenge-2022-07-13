{
 "cells": [
  {
   "cell_type": "markdown",
   "id": "d80cb012",
   "metadata": {
    "id": "d80cb012"
   },
   "source": [
    "## Legend"
   ]
  },
  {
   "cell_type": "markdown",
   "id": "3ca11620",
   "metadata": {
    "id": "3ca11620"
   },
   "source": [
    "🎯 Objective    \n",
    "❓ Question  \n",
    "📝 Task  \n",
    "☑️ Instructions  \n",
    "💡 Informations  \n",
    "💾 Submit your results  \n",
    "\n",
    "**variable name**  \n",
    "*field name*  \n",
    "`python object`"
   ]
  },
  {
   "cell_type": "markdown",
   "id": "55e01f2e",
   "metadata": {
    "id": "55e01f2e"
   },
   "source": [
    "# Reconnaissance de formes par réseaux de neurones artificiels "
   ]
  },
  {
   "cell_type": "markdown",
   "id": "8628f997",
   "metadata": {
    "id": "8628f997"
   },
   "source": [
    "This exam assesses the 3rd block of the certification *Reconnaissance de formes par réseaux de neurones artificiels*\n",
    "\n",
    "💡 It is split into 2 independent challenges:  \n",
    "- 🖼️ CNN challenge - Image Denoising  \n",
    "- 🎙️ RNN challenge - Lyrics Detector"
   ]
  },
  {
   "cell_type": "markdown",
   "id": "39f80cd6",
   "metadata": {
    "id": "39f80cd6"
   },
   "source": [
    "# 🖼️ Image Denoising Challenge (2h)"
   ]
  },
  {
   "cell_type": "markdown",
   "id": "12b60a06",
   "metadata": {
    "id": "12b60a06"
   },
   "source": [
    "🎯 Design and train a denoising model  \n",
    "☑️ For a given noisy image $X$, your model should learn to predict the denoised image $y$."
   ]
  },
  {
   "cell_type": "markdown",
   "id": "6b0dfd0f",
   "metadata": {
    "id": "6b0dfd0f"
   },
   "source": [
    "💡 This challenge assesses the following skills:\n",
    "- C14 Convertir les données entrantes (images et texte par exemple) en données adaptées pour un réseau de neurones (100%)\n",
    "- C15 Maîtriser les différentes architectures de réseau de neurones : convolutifs pour les images & récurrents pour les séries temporelles et les modèles de traitement automatique du langage (NLP) pour le texte (50%)\n",
    "- C16 Utiliser un réseau de neurones convolutifs pour étiqueter des images (100%)"
   ]
  },
  {
   "cell_type": "markdown",
   "id": "09444354",
   "metadata": {
    "id": "09444354"
   },
   "source": [
    "## 0. Imports\n",
    "\n",
    "☑️ Use the cell below to load the packages you use in this challenge"
   ]
  },
  {
   "cell_type": "code",
   "execution_count": 1,
   "id": "fc018266",
   "metadata": {
    "ExecuteTime": {
     "end_time": "2021-07-02T09:33:05.954373Z",
     "start_time": "2021-07-02T09:33:05.950711Z"
    },
    "executionInfo": {
     "elapsed": 494,
     "status": "ok",
     "timestamp": 1657701419925,
     "user": {
      "displayName": "Louis Demange",
      "userId": "01131558850204017233"
     },
     "user_tz": -120
    },
    "id": "fc018266",
    "tags": [
     "challengify"
    ]
   },
   "outputs": [],
   "source": [
    "# YOUR CODE HERE"
   ]
  },
  {
   "cell_type": "markdown",
   "id": "7cd67a8f",
   "metadata": {
    "id": "7cd67a8f"
   },
   "source": [
    "## 1. Load Data"
   ]
  },
  {
   "cell_type": "markdown",
   "id": "430afb2b",
   "metadata": {
    "id": "430afb2b"
   },
   "source": [
    "📝 Download the dataset archive  \n",
    "💡 It contains colored as well as black & white images"
   ]
  },
  {
   "cell_type": "code",
   "execution_count": 2,
   "id": "c67d9e72",
   "metadata": {
    "ExecuteTime": {
     "end_time": "2021-07-02T09:33:08.673472Z",
     "start_time": "2021-07-02T09:33:07.105177Z"
    },
    "colab": {
     "base_uri": "https://localhost:8080/"
    },
    "executionInfo": {
     "elapsed": 7404,
     "status": "ok",
     "timestamp": 1657701427839,
     "user": {
      "displayName": "Louis Demange",
      "userId": "01131558850204017233"
     },
     "user_tz": -120
    },
    "id": "c67d9e72",
    "outputId": "1c2c5794-f6ed-4fa2-f67c-2ec9683f601f"
   },
   "outputs": [
    {
     "name": "stdout",
     "output_type": "stream",
     "text": [
      "  % Total    % Received % Xferd  Average Speed   Time    Time     Time  Current\n",
      "                                 Dload  Upload   Total   Spent    Left  Speed\n",
      "100 42.0M  100 42.0M    0     0  2632k      0  0:00:16  0:00:16 --:--:-- 1695k0:00:02 2060k\n",
      "total 804\n",
      "-rw-rw-r-- 1 demange demange    196 juil. 13 09:03 Makefile\n",
      "drwx------ 2 demange demange  24576 juil.  2  2021 paintings\n",
      "-rw-rw-r-- 1 demange demange 780058 juil. 13 11:35 paintings_denoising_lyrics_detector.ipynb\n",
      "-rw-rw-r-- 1 demange demange    442 juil. 13 09:03 README.md\n",
      "drwxrwxr-x 2 demange demange   4096 juil. 13 09:21 tests\n"
     ]
    }
   ],
   "source": [
    "! curl https://wagon-public-datasets.s3.amazonaws.com/certification_france_2021_q2/paintings.zip > paintings.zip\n",
    "! unzip -nq \"paintings.zip\" \n",
    "! rm \"paintings.zip\"\n",
    "! ls -l"
   ]
  },
  {
   "cell_type": "code",
   "execution_count": 3,
   "id": "a56b0684",
   "metadata": {
    "ExecuteTime": {
     "end_time": "2021-07-02T09:33:09.934432Z",
     "start_time": "2021-07-02T09:33:09.914525Z"
    },
    "colab": {
     "base_uri": "https://localhost:8080/"
    },
    "executionInfo": {
     "elapsed": 44,
     "status": "ok",
     "timestamp": 1657701427839,
     "user": {
      "displayName": "Louis Demange",
      "userId": "01131558850204017233"
     },
     "user_tz": -120
    },
    "id": "a56b0684",
    "outputId": "647ad8d9-1fff-45b0-b83b-1cdabbb12f0e"
   },
   "outputs": [
    {
     "data": {
      "text/plain": [
       "['./paintings/Edvard_Munch_15.jpg',\n",
       " './paintings/Henri_Matisse_113.jpg',\n",
       " './paintings/Albrecht_Duâ\\x95\\xa0Ãªrer_187.jpg',\n",
       " './paintings/Diego_Rivera_10.jpg',\n",
       " './paintings/Edgar_Degas_105.jpg',\n",
       " './paintings/Mikhail_Vrubel_15.jpg',\n",
       " './paintings/Albrecht_Duâ\\x95\\xa0Ãªrer_301.jpg',\n",
       " './paintings/Francisco_Goya_58.jpg',\n",
       " './paintings/Joan_Miro_62.jpg',\n",
       " './paintings/Michelangelo_12.jpg',\n",
       " './paintings/Mikhail_Vrubel_33.jpg',\n",
       " './paintings/Edgar_Degas_24.jpg',\n",
       " './paintings/Edgar_Degas_127.jpg',\n",
       " './paintings/Albrecht_Duâ\\x95\\xa0Ãªrer_9.jpg',\n",
       " './paintings/Amedeo_Modigliani_30.jpg',\n",
       " './paintings/Rembrandt_145.jpg',\n",
       " './paintings/Mikhail_Vrubel_62.jpg',\n",
       " './paintings/Henri_Matisse_31.jpg',\n",
       " './paintings/Albrecht_DuÌ\\x88rer_63.jpg',\n",
       " './paintings/Michelangelo_49.jpg',\n",
       " './paintings/Edgar_Degas_257.jpg',\n",
       " './paintings/Rembrandt_109.jpg',\n",
       " './paintings/Edgar_Degas_394.jpg',\n",
       " './paintings/Joan_Miro_84.jpg',\n",
       " './paintings/Albrecht_DuÌ\\x88rer_295.jpg',\n",
       " './paintings/Edgar_Degas_574.jpg',\n",
       " './paintings/Albrecht_Duâ\\x95\\xa0Ãªrer_215.jpg',\n",
       " './paintings/Edgar_Degas_2.jpg',\n",
       " './paintings/Rembrandt_167.jpg',\n",
       " './paintings/Edouard_Manet_46.jpg',\n",
       " './paintings/Marc_Chagall_20.jpg',\n",
       " './paintings/Amedeo_Modigliani_177.jpg',\n",
       " './paintings/Leonardo_da_Vinci_115.jpg',\n",
       " './paintings/Albrecht_DuÌ\\x88rer_323.jpg',\n",
       " './paintings/Henri_Matisse_8.jpg',\n",
       " './paintings/Albrecht_DuÌ\\x88rer_70.jpg',\n",
       " './paintings/Alfred_Sisley_208.jpg',\n",
       " './paintings/Marc_Chagall_138.jpg',\n",
       " './paintings/Edvard_Munch_22.jpg',\n",
       " './paintings/Henri_Matisse_171.jpg',\n",
       " './paintings/Amedeo_Modigliani_104.jpg',\n",
       " './paintings/Leonardo_da_Vinci_94.jpg',\n",
       " './paintings/Henri_Matisse_14.jpg',\n",
       " './paintings/Mikhail_Vrubel_116.jpg',\n",
       " './paintings/Francisco_Goya_270.jpg',\n",
       " './paintings/Kazimir_Malevich_106.jpg',\n",
       " './paintings/Edgar_Degas_37.jpg',\n",
       " './paintings/Kazimir_Malevich_93.jpg',\n",
       " './paintings/Edgar_Degas_141.jpg',\n",
       " './paintings/Francisco_Goya_256.jpg',\n",
       " './paintings/Albrecht_Duâ\\x95\\xa0Ãªrer_280.jpg',\n",
       " './paintings/Diego_Rivera_61.jpg',\n",
       " './paintings/Francisco_Goya_177.jpg',\n",
       " './paintings/Jackson_Pollock_15.jpg',\n",
       " './paintings/Edouard_Manet_17.jpg',\n",
       " './paintings/Leonardo_da_Vinci_58.jpg',\n",
       " './paintings/Michelangelo_41.jpg',\n",
       " './paintings/Edgar_Degas_581.jpg',\n",
       " './paintings/Henri_Matisse_120.jpg',\n",
       " './paintings/Diego_Rivera_18.jpg',\n",
       " './paintings/Leonardo_da_Vinci_43.jpg',\n",
       " './paintings/Rembrandt_45.jpg',\n",
       " './paintings/Henri_Rousseau_21.jpg',\n",
       " './paintings/Amedeo_Modigliani_140.jpg',\n",
       " './paintings/Amedeo_Modigliani_5.jpg',\n",
       " './paintings/Joan_Miro_55.jpg',\n",
       " './paintings/Albrecht_Duâ\\x95\\xa0Ãªrer_34.jpg',\n",
       " './paintings/Alfred_Sisley_68.jpg',\n",
       " './paintings/Rembrandt_196.jpg',\n",
       " './paintings/Francisco_Goya_50.jpg',\n",
       " './paintings/Amedeo_Modigliani_67.jpg',\n",
       " './paintings/Kazimir_Malevich_35.jpg',\n",
       " './paintings/Alfred_Sisley_8.jpg',\n",
       " './paintings/Amedeo_Modigliani_148.jpg',\n",
       " './paintings/Amedeo_Modigliani_23.jpg',\n",
       " './paintings/Rembrandt_123.jpg',\n",
       " './paintings/Francisco_Goya_29.jpg',\n",
       " './paintings/Jan_van_Eyck_44.jpg',\n",
       " './paintings/Leonardo_da_Vinci_36.jpg',\n",
       " './paintings/Henri_Matisse_75.jpg',\n",
       " './paintings/Albrecht_Duâ\\x95\\xa0Ãªrer_22.jpg',\n",
       " './paintings/Albrecht_Duâ\\x95\\xa0Ãªrer_244.jpg',\n",
       " './paintings/Jan_van_Eyck_73.jpg',\n",
       " './paintings/Kazimir_Malevich_79.jpg',\n",
       " './paintings/Edgar_Degas_271.jpg',\n",
       " './paintings/Edgar_Degas_516.jpg',\n",
       " './paintings/Diego_Rivera_25.jpg',\n",
       " './paintings/Edouard_Manet_53.jpg',\n",
       " './paintings/Marc_Chagall_37.jpg',\n",
       " './paintings/Edouard_Manet_39.jpg',\n",
       " './paintings/Francisco_Goya_7.jpg',\n",
       " './paintings/Edouard_Manet_24.jpg',\n",
       " './paintings/Edvard_Munch_51.jpg',\n",
       " './paintings/Edouard_Manet_75.jpg',\n",
       " './paintings/Francisco_Goya_155.jpg',\n",
       " './paintings/Eugene_Delacroix_28.jpg',\n",
       " './paintings/Albrecht_Duâ\\x95\\xa0Ãªrer_49.jpg',\n",
       " './paintings/Rembrandt_130.jpg',\n",
       " './paintings/Jan_van_Eyck_66.jpg',\n",
       " './paintings/Hieronymus_Bosch_25.jpg',\n",
       " './paintings/Albrecht_DuÌ\\x88rer_208.jpg',\n",
       " './paintings/Marc_Chagall_44.jpg',\n",
       " './paintings/Hieronymus_Bosch_54.jpg',\n",
       " './paintings/Amedeo_Modigliani_119.jpg',\n",
       " './paintings/Albrecht_DuÌ\\x88rer_273.jpg',\n",
       " './paintings/Edouard_Manet_68.jpg',\n",
       " './paintings/Kazimir_Malevich_120.jpg',\n",
       " './paintings/Rembrandt_89.jpg',\n",
       " './paintings/Francisco_Goya_148.jpg',\n",
       " './paintings/Edgar_Degas_314.jpg',\n",
       " './paintings/Henri_Matisse_106.jpg',\n",
       " './paintings/Edgar_Degas_488.jpg',\n",
       " './paintings/Francisco_Goya_285.jpg',\n",
       " './paintings/Hieronymus_Bosch_61.jpg',\n",
       " './paintings/Albrecht_DuÌ\\x88rer_107.jpg',\n",
       " './paintings/Albrecht_Duâ\\x95\\xa0Ãªrer_56.jpg',\n",
       " './paintings/Marc_Chagall_15.jpg',\n",
       " './paintings/Albrecht_DuÌ\\x88rer_172.jpg',\n",
       " './paintings/Eugene_Delacroix_6.jpg',\n",
       " './paintings/Leonardo_da_Vinci_29.jpg',\n",
       " './paintings/Francisco_Goya_126.jpg',\n",
       " './paintings/Marc_Chagall_95.jpg',\n",
       " './paintings/Amedeo_Modigliani_89.jpg',\n",
       " './paintings/Mikhail_Vrubel_145.jpg',\n",
       " './paintings/Albrecht_DuÌ\\x88rer_194.jpg',\n",
       " './paintings/Leonardo_da_Vinci_7.jpg',\n",
       " './paintings/Edgar_Degas_42.jpg',\n",
       " './paintings/Alfred_Sisley_46.jpg',\n",
       " './paintings/Diego_Velazquez_15.jpg',\n",
       " './paintings/Kazimir_Malevich_13.jpg',\n",
       " './paintings/Hieronymus_Bosch_47.jpg',\n",
       " './paintings/Amedeo_Modigliani_74.jpg',\n",
       " './paintings/Edvard_Munch_59.jpg',\n",
       " './paintings/Francisco_Goya_205.jpg',\n",
       " './paintings/Edgar_Degas_631.jpg',\n",
       " './paintings/Edgar_Degas_78.jpg',\n",
       " './paintings/Jan_van_Eyck_59.jpg',\n",
       " './paintings/Edgar_Degas_387.jpg',\n",
       " './paintings/Francisco_Goya_140.jpg',\n",
       " './paintings/Jan_van_Eyck_51.jpg',\n",
       " './paintings/Alfred_Sisley_114.jpg',\n",
       " './paintings/Diego_Rivera_54.jpg',\n",
       " './paintings/Francisco_Goya_65.jpg',\n",
       " './paintings/Albrecht_Duâ\\x95\\xa0Ãªrer_208.jpg',\n",
       " './paintings/Albrecht_DuÌ\\x88rer_165.jpg',\n",
       " './paintings/Alfred_Sisley_136.jpg',\n",
       " './paintings/Albrecht_Duâ\\x95\\xa0Ãªrer_107.jpg',\n",
       " './paintings/Marc_Chagall_167.jpg',\n",
       " './paintings/Edgar_Degas_675.jpg',\n",
       " './paintings/Albrecht_Duâ\\x95\\xa0Ãªrer_78.jpg',\n",
       " './paintings/Alfred_Sisley_60.jpg',\n",
       " './paintings/Amedeo_Modigliani_184.jpg',\n",
       " './paintings/Albrecht_DuÌ\\x88rer_85.jpg',\n",
       " './paintings/Marc_Chagall_101.jpg',\n",
       " './paintings/Edgar_Degas_567.jpg',\n",
       " './paintings/Albrecht_Duâ\\x95\\xa0Ãªrer_143.jpg',\n",
       " './paintings/Marc_Chagall_152.jpg',\n",
       " './paintings/Edgar_Degas_92.jpg',\n",
       " './paintings/Joan_Miro_48.jpg',\n",
       " './paintings/Albrecht_Duâ\\x95\\xa0Ãªrer_251.jpg',\n",
       " './paintings/Albrecht_Duâ\\x95\\xa0Ãªrer_136.jpg',\n",
       " './paintings/Edgar_Degas_279.jpg',\n",
       " './paintings/Marc_Chagall_116.jpg',\n",
       " './paintings/Michelangelo_34.jpg',\n",
       " './paintings/Albrecht_DuÌ\\x88rer_34.jpg',\n",
       " './paintings/Henri_Matisse_135.jpg',\n",
       " './paintings/Francisco_Goya_191.jpg',\n",
       " './paintings/Edgar_Degas_55.jpg',\n",
       " './paintings/Francisco_Goya_241.jpg',\n",
       " './paintings/Francisco_Goya_119.jpg',\n",
       " './paintings/Francisco_Goya_87.jpg',\n",
       " './paintings/Mikhail_Vrubel_84.jpg',\n",
       " './paintings/Mikhail_Vrubel_77.jpg',\n",
       " './paintings/Edgar_Degas_624.jpg',\n",
       " './paintings/Francisco_Goya_21.jpg',\n",
       " './paintings/Albrecht_DuÌ\\x88rer_121.jpg',\n",
       " './paintings/Edgar_Degas_321.jpg',\n",
       " './paintings/Francisco_Goya_249.jpg',\n",
       " './paintings/Leonardo_da_Vinci_87.jpg',\n",
       " './paintings/Marc_Chagall_80.jpg',\n",
       " './paintings/Albrecht_DuÌ\\x88rer_143.jpg',\n",
       " './paintings/Albrecht_DuÌ\\x88rer_309.jpg',\n",
       " './paintings/Henri_Matisse_186.jpg',\n",
       " './paintings/Mikhail_Vrubel_91.jpg',\n",
       " './paintings/Edgar_Degas_365.jpg',\n",
       " './paintings/Albrecht_Duâ\\x95\\xa0Ãªrer_194.jpg',\n",
       " './paintings/Henri_Matisse_68.jpg',\n",
       " './paintings/Henri_Rousseau_65.jpg',\n",
       " './paintings/Edgar_Degas_668.jpg',\n",
       " './paintings/Alfred_Sisley_129.jpg',\n",
       " './paintings/Alfred_Sisley_17.jpg',\n",
       " './paintings/Edgar_Degas_530.jpg',\n",
       " './paintings/Henri_Matisse_24.jpg',\n",
       " './paintings/Rembrandt_74.jpg',\n",
       " './paintings/Alfred_Sisley_237.jpg',\n",
       " './paintings/Albrecht_DuÌ\\x88rer_259.jpg',\n",
       " './paintings/Amedeo_Modigliani_16.jpg',\n",
       " './paintings/Leonardo_da_Vinci_72.jpg',\n",
       " './paintings/Albrecht_DuÌ\\x88rer_158.jpg',\n",
       " './paintings/Edgar_Degas_451.jpg',\n",
       " './paintings/Marc_Chagall_59.jpg',\n",
       " './paintings/Marc_Chagall_196.jpg',\n",
       " './paintings/Albrecht_Duâ\\x95\\xa0Ãªrer_41.jpg',\n",
       " './paintings/Amedeo_Modigliani_52.jpg',\n",
       " './paintings/Diego_Rivera_3.jpg',\n",
       " './paintings/Edgar_Degas_213.jpg',\n",
       " './paintings/Leonardo_da_Vinci_108.jpg',\n",
       " './paintings/Albrecht_Duâ\\x95\\xa0Ãªrer_273.jpg',\n",
       " './paintings/Joan_Miro_19.jpg',\n",
       " './paintings/Edgar_Degas_228.jpg',\n",
       " './paintings/Henri_Rousseau_36.jpg',\n",
       " './paintings/Albrecht_Duâ\\x95\\xa0Ãªrer_121.jpg',\n",
       " './paintings/Edgar_Degas_350.jpg',\n",
       " './paintings/Hieronymus_Bosch_106.jpg',\n",
       " './paintings/Edgar_Degas_358.jpg',\n",
       " './paintings/Henri_Matisse_128.jpg',\n",
       " './paintings/Kazimir_Malevich_64.jpg',\n",
       " './paintings/Edvard_Munch_2.jpg',\n",
       " './paintings/Henri_Matisse_60.jpg',\n",
       " './paintings/Henri_Matisse_82.jpg',\n",
       " './paintings/Edvard_Munch_44.jpg',\n",
       " './paintings/Kazimir_Malevich_71.jpg',\n",
       " './paintings/Albrecht_DuÌ\\x88rer_222.jpg',\n",
       " './paintings/Alfred_Sisley_158.jpg',\n",
       " './paintings/Hieronymus_Bosch_83.jpg',\n",
       " './paintings/Alfred_Sisley_22.jpg',\n",
       " './paintings/Rembrandt_189.jpg',\n",
       " './paintings/Albrecht_DuÌ\\x88rer_78.jpg',\n",
       " './paintings/Albrecht_DuÌ\\x88rer_136.jpg',\n",
       " './paintings/Alfred_Sisley_194.jpg',\n",
       " './paintings/Edgar_Degas_149.jpg',\n",
       " './paintings/Albrecht_Duâ\\x95\\xa0Ãªrer_288.jpg',\n",
       " './paintings/Amedeo_Modigliani_45.jpg',\n",
       " './paintings/Mikhail_Vrubel_138.jpg',\n",
       " './paintings/Alfred_Sisley_53.jpg',\n",
       " './paintings/Leonardo_da_Vinci_12.jpg',\n",
       " './paintings/Francisco_Goya_133.jpg',\n",
       " './paintings/Albrecht_DuÌ\\x88rer_288.jpg',\n",
       " './paintings/Edgar_Degas_163.jpg',\n",
       " './paintings/Mikhail_Vrubel_48.jpg',\n",
       " './paintings/Edgar_Degas_112.jpg',\n",
       " './paintings/Albrecht_Duâ\\x95\\xa0Ãªrer_323.jpg',\n",
       " './paintings/Edgar_Degas_437.jpg',\n",
       " './paintings/Francisco_Goya_199.jpg',\n",
       " './paintings/Edgar_Degas_589.jpg',\n",
       " './paintings/Marc_Chagall_123.jpg',\n",
       " './paintings/Francisco_Goya_111.jpg',\n",
       " './paintings/Edgar_Degas_501.jpg',\n",
       " './paintings/Henri_Matisse_157.jpg',\n",
       " './paintings/Mikhail_Vrubel_99.jpg',\n",
       " './paintings/Albrecht_DuÌ\\x88rer_316.jpg',\n",
       " './paintings/Albrecht_Duâ\\x95\\xa0Ãªrer_266.jpg',\n",
       " './paintings/Rembrandt_260.jpg',\n",
       " './paintings/Rembrandt_174.jpg',\n",
       " './paintings/Leonardo_da_Vinci_50.jpg',\n",
       " './paintings/Edgar_Degas_70.jpg',\n",
       " './paintings/Amedeo_Modigliani_162.jpg',\n",
       " './paintings/Henri_Matisse_164.jpg',\n",
       " './paintings/Albrecht_Duâ\\x95\\xa0Ãªrer_222.jpg',\n",
       " './paintings/Alfred_Sisley_150.jpg',\n",
       " './paintings/Marc_Chagall_239.jpg',\n",
       " './paintings/Edgar_Degas_372.jpg',\n",
       " './paintings/Hieronymus_Bosch_76.jpg',\n",
       " './paintings/Alfred_Sisley_121.jpg',\n",
       " './paintings/Mikhail_Vrubel_152.jpg',\n",
       " './paintings/Mikhail_Vrubel_6.jpg',\n",
       " './paintings/Albrecht_DuÌ\\x88rer_22.jpg',\n",
       " './paintings/Edgar_Degas_459.jpg',\n",
       " './paintings/Albrecht_Duâ\\x95\\xa0Ãªrer_259.jpg',\n",
       " './paintings/Rembrandt_253.jpg',\n",
       " './paintings/Edgar_Degas_415.jpg',\n",
       " './paintings/Alfred_Sisley_31.jpg',\n",
       " './paintings/Eugene_Delacroix_13.jpg',\n",
       " './paintings/Joan_Miro_11.jpg',\n",
       " './paintings/Diego_Rivera_47.jpg',\n",
       " './paintings/Hieronymus_Bosch_69.jpg',\n",
       " './paintings/Michelangelo_1.jpg',\n",
       " './paintings/Rembrandt_217.jpg',\n",
       " './paintings/Edgar_Degas_192.jpg',\n",
       " './paintings/Henri_Matisse_97.jpg',\n",
       " './paintings/Diego_Velazquez_10.jpg',\n",
       " './paintings/Francisco_Goya_43.jpg',\n",
       " './paintings/Edgar_Degas_509.jpg',\n",
       " './paintings/Rembrandt_239.jpg',\n",
       " './paintings/Edvard_Munch_66.jpg',\n",
       " './paintings/Edgar_Degas_552.jpg',\n",
       " './paintings/Albrecht_Duâ\\x95\\xa0Ãªrer_17.jpg',\n",
       " './paintings/Alfred_Sisley_200.jpg',\n",
       " './paintings/Rembrandt_38.jpg',\n",
       " './paintings/Francisco_Goya_36.jpg',\n",
       " './paintings/Rembrandt_96.jpg',\n",
       " './paintings/Francisco_Goya_184.jpg',\n",
       " './paintings/Jackson_Pollock_7.jpg',\n",
       " './paintings/Hieronymus_Bosch_98.jpg',\n",
       " './paintings/Edgar_Degas_134.jpg',\n",
       " './paintings/Albrecht_Duâ\\x95\\xa0Ãªrer_92.jpg',\n",
       " './paintings/Leonardo_da_Vinci_100.jpg',\n",
       " './paintings/Edgar_Degas_480.jpg',\n",
       " './paintings/Francisco_Goya_104.jpg',\n",
       " './paintings/Kazimir_Malevich_86.jpg',\n",
       " './paintings/Joan_Miro_99.jpg',\n",
       " './paintings/Henri_Matisse_53.jpg',\n",
       " './paintings/Edgar_Degas_329.jpg',\n",
       " './paintings/Alfred_Sisley_222.jpg',\n",
       " './paintings/Leonardo_da_Vinci_65.jpg',\n",
       " './paintings/Francisco_Goya_72.jpg',\n",
       " './paintings/Hieronymus_Bosch_113.jpg',\n",
       " './paintings/Marc_Chagall_2.jpg',\n",
       " './paintings/Joan_Miro_26.jpg',\n",
       " './paintings/Leonardo_da_Vinci_122.jpg',\n",
       " './paintings/Edgar_Degas_422.jpg',\n",
       " './paintings/Edgar_Degas_538.jpg',\n",
       " './paintings/Mikhail_Vrubel_40.jpg',\n",
       " './paintings/Mikhail_Vrubel_26.jpg',\n",
       " './paintings/Kazimir_Malevich_42.jpg',\n",
       " './paintings/Albrecht_DuÌ\\x88rer_187.jpg',\n",
       " './paintings/Albrecht_Duâ\\x95\\xa0Ãªrer_200.jpg',\n",
       " './paintings/Alfred_Sisley_39.jpg',\n",
       " './paintings/Edgar_Degas_220.jpg',\n",
       " './paintings/Henri_Rousseau_58.jpg',\n",
       " './paintings/Hieronymus_Bosch_18.jpg',\n",
       " './paintings/Edgar_Degas_617.jpg',\n",
       " './paintings/Amedeo_Modigliani_155.jpg',\n",
       " './paintings/Marc_Chagall_174.jpg',\n",
       " './paintings/Jackson_Pollock_22.jpg',\n",
       " './paintings/Mikhail_Vrubel_130.jpg',\n",
       " './paintings/Amedeo_Modigliani_133.jpg',\n",
       " './paintings/Albrecht_DuÌ\\x88rer_280.jpg',\n",
       " './paintings/Jan_van_Eyck_80.jpg',\n",
       " './paintings/Henri_Matisse_46.jpg',\n",
       " './paintings/Edgar_Degas_235.jpg',\n",
       " './paintings/Kazimir_Malevich_20.jpg',\n",
       " './paintings/Alfred_Sisley_172.jpg',\n",
       " './paintings/Kazimir_Malevich_57.jpg',\n",
       " './paintings/Albrecht_Duâ\\x95\\xa0Ãªrer_158.jpg',\n",
       " './paintings/Joan_Miro_33.jpg',\n",
       " './paintings/Albrecht_DuÌ\\x88rer_56.jpg',\n",
       " './paintings/Edgar_Degas_466.jpg',\n",
       " './paintings/Rembrandt_181.jpg',\n",
       " './paintings/Edgar_Degas_682.jpg',\n",
       " './paintings/Joan_Miro_91.jpg',\n",
       " './paintings/Edgar_Degas_639.jpg',\n",
       " './paintings/Edouard_Manet_8.jpg',\n",
       " './paintings/Hieronymus_Bosch_90.jpg',\n",
       " './paintings/Marc_Chagall_109.jpg',\n",
       " './paintings/Jan_van_Eyck_2.jpg',\n",
       " './paintings/Edgar_Degas_660.jpg',\n",
       " './paintings/Rembrandt_138.jpg',\n",
       " './paintings/Amedeo_Modigliani_111.jpg',\n",
       " './paintings/Hieronymus_Bosch_32.jpg',\n",
       " './paintings/Alfred_Sisley_97.jpg',\n",
       " './paintings/Albrecht_Duâ\\x95\\xa0Ãªrer_85.jpg',\n",
       " './paintings/Albrecht_DuÌ\\x88rer_244.jpg',\n",
       " './paintings/Marc_Chagall_202.jpg',\n",
       " './paintings/Edgar_Degas_170.jpg',\n",
       " './paintings/Edgar_Degas_68.jpg',\n",
       " './paintings/Albrecht_Duâ\\x95\\xa0Ãªrer_309.jpg',\n",
       " './paintings/Edgar_Degas_19.jpg',\n",
       " './paintings/Edgar_Degas_343.jpg',\n",
       " './paintings/Edouard_Manet_60.jpg',\n",
       " './paintings/Albrecht_DuÌ\\x88rer_92.jpg',\n",
       " './paintings/Mikhail_Vrubel_101.jpg',\n",
       " './paintings/Henri_Rousseau_50.jpg',\n",
       " './paintings/Marc_Chagall_88.jpg',\n",
       " './paintings/Edgar_Degas_242.jpg',\n",
       " './paintings/Francisco_Goya_278.jpg',\n",
       " './paintings/Alfred_Sisley_259.jpg',\n",
       " './paintings/Albrecht_Duâ\\x95\\xa0Ãªrer_172.jpg',\n",
       " './paintings/Leonardo_da_Vinci_14.jpg',\n",
       " './paintings/Albrecht_DuÌ\\x88rer_129.jpg',\n",
       " './paintings/Albrecht_Duâ\\x95\\xa0Ãªrer_237.jpg',\n",
       " './paintings/Hieronymus_Bosch_135.jpg',\n",
       " './paintings/Alfred_Sisley_75.jpg',\n",
       " './paintings/Edgar_Degas_336.jpg',\n",
       " './paintings/Rembrandt_246.jpg',\n",
       " './paintings/Alfred_Sisley_82.jpg',\n",
       " './paintings/Albrecht_DuÌ\\x88rer_41.jpg',\n",
       " './paintings/Albrecht_Duâ\\x95\\xa0Ãªrer_295.jpg',\n",
       " './paintings/Edvard_Munch_37.jpg',\n",
       " './paintings/Albrecht_DuÌ\\x88rer_150.jpg',\n",
       " './paintings/Marc_Chagall_51.jpg',\n",
       " './paintings/Mikhail_Vrubel_19.jpg',\n",
       " './paintings/Henri_Matisse_179.jpg',\n",
       " './paintings/Edgar_Degas_400.jpg',\n",
       " './paintings/Albrecht_Duâ\\x95\\xa0Ãªrer_165.jpg',\n",
       " './paintings/Henri_Rousseau_8.jpg',\n",
       " './paintings/Albrecht_DuÌ\\x88rer_17.jpg',\n",
       " './paintings/Edgar_Degas_264.jpg',\n",
       " './paintings/Alfred_Sisley_215.jpg',\n",
       " './paintings/Kazimir_Malevich_4.jpg',\n",
       " './paintings/Edgar_Degas_697.jpg',\n",
       " './paintings/Rembrandt_30.jpg',\n",
       " './paintings/Marc_Chagall_189.jpg',\n",
       " './paintings/Rembrandt_81.jpg',\n",
       " './paintings/Albrecht_DuÌ\\x88rer_49.jpg',\n",
       " './paintings/Albrecht_Duâ\\x95\\xa0Ãªrer_129.jpg',\n",
       " './paintings/Mikhail_Vrubel_109.jpg',\n",
       " './paintings/Joan_Miro_6.jpg',\n",
       " './paintings/Marc_Chagall_145.jpg',\n",
       " './paintings/Albrecht_Duâ\\x95\\xa0Ãªrer_63.jpg',\n",
       " './paintings/Rembrandt_52.jpg',\n",
       " './paintings/Albrecht_DuÌ\\x88rer_237.jpg',\n",
       " './paintings/Edgar_Degas_11.jpg',\n",
       " './paintings/Marc_Chagall_181.jpg',\n",
       " './paintings/Marc_Chagall_224.jpg',\n",
       " './paintings/Edgar_Degas_307.jpg',\n",
       " './paintings/Marc_Chagall_217.jpg',\n",
       " './paintings/Marc_Chagall_130.jpg',\n",
       " './paintings/Kazimir_Malevich_28.jpg',\n",
       " './paintings/Rembrandt_101.jpg',\n",
       " './paintings/Mikhail_Vrubel_55.jpg',\n",
       " './paintings/Leonardo_da_Vinci_137.jpg',\n",
       " './paintings/Amedeo_Modigliani_191.jpg',\n",
       " './paintings/Albrecht_Duâ\\x95\\xa0Ãªrer_150.jpg',\n",
       " './paintings/Jan_van_Eyck_22.jpg',\n",
       " './paintings/Alfred_Sisley_165.jpg',\n",
       " './paintings/Michelangelo_27.jpg',\n",
       " './paintings/Eugene_Delacroix_20.jpg',\n",
       " './paintings/Francisco_Goya_94.jpg',\n",
       " './paintings/Edgar_Degas_408.jpg',\n",
       " './paintings/Edouard_Manet_82.jpg',\n",
       " './paintings/Edgar_Degas_646.jpg',\n",
       " './paintings/Edgar_Degas_495.jpg',\n",
       " './paintings/Albrecht_DuÌ\\x88rer_251.jpg',\n",
       " './paintings/Marc_Chagall_231.jpg',\n",
       " './paintings/Edgar_Degas_156.jpg',\n",
       " './paintings/Edouard_Manet_31.jpg',\n",
       " './paintings/Diego_Velazquez_117.jpg',\n",
       " './paintings/Marc_Chagall_66.jpg',\n",
       " './paintings/Leonardo_da_Vinci_21.jpg',\n",
       " './paintings/Rembrandt_15.jpg',\n",
       " './paintings/Diego_Velazquez_102.jpg',\n",
       " './paintings/Hieronymus_Bosch_128.jpg',\n",
       " './paintings/Rembrandt_67.jpg',\n",
       " './paintings/Francisco_Goya_263.jpg',\n",
       " './paintings/Albrecht_Duâ\\x95\\xa0Ãªrer_316.jpg',\n",
       " './paintings/Kazimir_Malevich_113.jpg',\n",
       " './paintings/Francisco_Goya_227.jpg',\n",
       " './paintings/Edgar_Degas_523.jpg',\n",
       " './paintings/Rembrandt_20.jpg',\n",
       " './paintings/Edgar_Degas_185.jpg',\n",
       " './paintings/Edgar_Degas_206.jpg',\n",
       " './paintings/Henri_Rousseau_43.jpg',\n",
       " './paintings/Henri_Matisse_142.jpg',\n",
       " './paintings/Francisco_Goya_16.jpg',\n",
       " './paintings/Edgar_Degas_9.jpg',\n",
       " './paintings/Amedeo_Modigliani_96.jpg',\n",
       " './paintings/Albrecht_DuÌ\\x88rer_114.jpg',\n",
       " './paintings/Rembrandt_5.jpg',\n",
       " './paintings/Edgar_Degas_596.jpg',\n",
       " './paintings/Edgar_Degas_178.jpg',\n",
       " './paintings/Joan_Miro_40.jpg',\n",
       " './paintings/Diego_Velazquez_124.jpg',\n",
       " './paintings/Edgar_Degas_85.jpg',\n",
       " './paintings/Jan_van_Eyck_15.jpg',\n",
       " './paintings/Francisco_Goya_234.jpg',\n",
       " './paintings/Alfred_Sisley_143.jpg',\n",
       " './paintings/Alfred_Sisley_107.jpg',\n",
       " './paintings/Henri_Rousseau_14.jpg',\n",
       " './paintings/Alfred_Sisley_251.jpg',\n",
       " './paintings/Jan_van_Eyck_37.jpg',\n",
       " './paintings/Mikhail_Vrubel_167.jpg',\n",
       " './paintings/Henri_Rousseau_29.jpg',\n",
       " './paintings/Edgar_Degas_473.jpg',\n",
       " './paintings/Edgar_Degas_293.jpg',\n",
       " './paintings/Albrecht_DuÌ\\x88rer_9.jpg',\n",
       " './paintings/Amedeo_Modigliani_81.jpg',\n",
       " './paintings/Edgar_Degas_444.jpg',\n",
       " './paintings/Henri_Matisse_39.jpg',\n",
       " './paintings/Rembrandt_116.jpg',\n",
       " './paintings/Edgar_Degas_653.jpg',\n",
       " './paintings/Rembrandt_231.jpg',\n",
       " './paintings/Mikhail_Vrubel_123.jpg',\n",
       " './paintings/Edgar_Degas_60.jpg',\n",
       " './paintings/Albrecht_DuÌ\\x88rer_215.jpg',\n",
       " './paintings/Edgar_Degas_545.jpg',\n",
       " './paintings/Amedeo_Modigliani_126.jpg',\n",
       " './paintings/Alfred_Sisley_187.jpg',\n",
       " './paintings/Diego_Rivera_32.jpg',\n",
       " './paintings/Albrecht_DuÌ\\x88rer_301.jpg',\n",
       " './paintings/Hieronymus_Bosch_120.jpg',\n",
       " './paintings/Francisco_Goya_162.jpg',\n",
       " './paintings/Albrecht_DuÌ\\x88rer_200.jpg',\n",
       " './paintings/Rembrandt_224.jpg',\n",
       " './paintings/Albrecht_DuÌ\\x88rer_266.jpg',\n",
       " './paintings/Albrecht_Duâ\\x95\\xa0Ãªrer_70.jpg',\n",
       " './paintings/Edgar_Degas_286.jpg',\n",
       " './paintings/Rembrandt_152.jpg',\n",
       " './paintings/Hieronymus_Bosch_3.jpg',\n",
       " './paintings/Francisco_Goya_212.jpg',\n",
       " './paintings/Diego_Rivera_69.jpg',\n",
       " './paintings/Amedeo_Modigliani_38.jpg',\n",
       " './paintings/Joan_Miro_77.jpg',\n",
       " './paintings/Marc_Chagall_73.jpg',\n",
       " './paintings/Alfred_Sisley_244.jpg',\n",
       " './paintings/Edgar_Degas_602.jpg',\n",
       " './paintings/Rembrandt_202.jpg',\n",
       " './paintings/Albrecht_Duâ\\x95\\xa0Ãªrer_114.jpg']"
      ]
     },
     "execution_count": 3,
     "metadata": {},
     "output_type": "execute_result"
    }
   ],
   "source": [
    "import glob\n",
    "dataset_paths = glob.glob(\"./paintings/*.jpg\")\n",
    "dataset_paths"
   ]
  },
  {
   "cell_type": "markdown",
   "id": "58f83608",
   "metadata": {
    "id": "58f83608"
   },
   "source": [
    "📝 Display the 16th image of the **dataset_paths**\n",
    "\n",
    "☑️    Use the `PIL.Image.open</code>` and `matplotlib.pyplot.imshow` functions."
   ]
  },
  {
   "cell_type": "code",
   "execution_count": 4,
   "id": "64e649f5",
   "metadata": {
    "ExecuteTime": {
     "end_time": "2021-07-02T09:34:51.029626Z",
     "start_time": "2021-07-02T09:34:50.854828Z"
    },
    "executionInfo": {
     "elapsed": 41,
     "status": "ok",
     "timestamp": 1657701427842,
     "user": {
      "displayName": "Louis Demange",
      "userId": "01131558850204017233"
     },
     "user_tz": -120
    },
    "id": "64e649f5",
    "scrolled": true,
    "tags": [
     "challengify"
    ]
   },
   "outputs": [],
   "source": [
    "# Imports PIL module \n",
    "from PIL import Image\n",
    "import numpy as np\n",
    "import matplotlib.pyplot as plt\n",
    "from matplotlib.pyplot import imshow\n",
    "  \n",
    "# open method used to open different extension image file\n",
    "#im = Image.open(r\"C:\\Users\\System-Pc\\Desktop\\ybear.jpg\") \n",
    "im = Image.open(dataset_paths[15]) "
   ]
  },
  {
   "cell_type": "code",
   "execution_count": 5,
   "id": "f2245913",
   "metadata": {
    "colab": {
     "base_uri": "https://localhost:8080/"
    },
    "executionInfo": {
     "elapsed": 39,
     "status": "ok",
     "timestamp": 1657701427843,
     "user": {
      "displayName": "Louis Demange",
      "userId": "01131558850204017233"
     },
     "user_tz": -120
    },
    "id": "f2245913",
    "outputId": "894348bb-c1e6-49c5-a6f0-097825b5c6fc"
   },
   "outputs": [
    {
     "data": {
      "text/plain": [
       "(614, 391, 3)"
      ]
     },
     "execution_count": 5,
     "metadata": {},
     "output_type": "execute_result"
    }
   ],
   "source": [
    "np.shape(im)"
   ]
  },
  {
   "cell_type": "code",
   "execution_count": 6,
   "id": "07ff97f1",
   "metadata": {
    "colab": {
     "base_uri": "https://localhost:8080/",
     "height": 269
    },
    "executionInfo": {
     "elapsed": 23,
     "status": "ok",
     "timestamp": 1657701427843,
     "user": {
      "displayName": "Louis Demange",
      "userId": "01131558850204017233"
     },
     "user_tz": -120
    },
    "id": "07ff97f1",
    "outputId": "e478882c-d43c-4ba0-b073-1514eaba2f7f"
   },
   "outputs": [
    {
     "data": {
      "image/png": "[encoded data removed]",
      "text/plain": [
       "<Figure size 432x288 with 1 Axes>"
      ]
     },
     "metadata": {
      "needs_background": "light"
     },
     "output_type": "display_data"
    }
   ],
   "source": [
    "import matplotlib.pyplot as plt\n",
    "imshow(im)\n",
    "plt.show()"
   ]
  },
  {
   "cell_type": "markdown",
   "id": "0cbb5bbd",
   "metadata": {
    "id": "0cbb5bbd"
   },
   "source": [
    "Look at the image you just displayed:  \n",
    "📝 Store its shape in `img_shape`  \n",
    "📝 Store its number of dimensions in `img_dim`"
   ]
  },
  {
   "cell_type": "code",
   "execution_count": 7,
   "id": "9f5fed60",
   "metadata": {
    "ExecuteTime": {
     "end_time": "2021-07-02T09:35:02.076365Z",
     "start_time": "2021-07-02T09:35:02.063108Z"
    },
    "executionInfo": {
     "elapsed": 19,
     "status": "ok",
     "timestamp": 1657701427844,
     "user": {
      "displayName": "Louis Demange",
      "userId": "01131558850204017233"
     },
     "user_tz": -120
    },
    "id": "9f5fed60",
    "tags": [
     "challengify"
    ]
   },
   "outputs": [],
   "source": [
    "img_shape = np.shape(im)\n",
    "img_dim = 3"
   ]
  },
  {
   "cell_type": "markdown",
   "id": "2cfa2f8f",
   "metadata": {
    "id": "2cfa2f8f"
   },
   "source": [
    "📝 Uncomment the true statements about the image you just displayed"
   ]
  },
  {
   "cell_type": "code",
   "execution_count": 8,
   "id": "a3c7d612",
   "metadata": {
    "ExecuteTime": {
     "end_time": "2021-07-02T09:35:05.854575Z",
     "start_time": "2021-07-02T09:35:05.850307Z"
    },
    "executionInfo": {
     "elapsed": 19,
     "status": "ok",
     "timestamp": 1657701427845,
     "user": {
      "displayName": "Louis Demange",
      "userId": "01131558850204017233"
     },
     "user_tz": -120
    },
    "id": "a3c7d612"
   },
   "outputs": [],
   "source": [
    "is_portrait = True\n",
    "is_colored_image = True"
   ]
  },
  {
   "cell_type": "markdown",
   "id": "02e3a064",
   "metadata": {
    "ExecuteTime": {
     "end_time": "2021-10-31T15:21:44.178889Z",
     "start_time": "2021-10-31T15:21:44.173713Z"
    },
    "id": "02e3a064"
   },
   "source": [
    "💾 **Run the cell below to submit your results**"
   ]
  },
  {
   "cell_type": "code",
   "execution_count": 9,
   "id": "99c7af3b",
   "metadata": {
    "ExecuteTime": {
     "end_time": "2021-07-02T09:35:07.302574Z",
     "start_time": "2021-07-02T09:35:07.297417Z"
    },
    "colab": {
     "base_uri": "https://localhost:8080/",
     "height": 376
    },
    "executionInfo": {
     "elapsed": 626,
     "status": "error",
     "timestamp": 1657701498724,
     "user": {
      "displayName": "Louis Demange",
      "userId": "01131558850204017233"
     },
     "user_tz": -120
    },
    "id": "99c7af3b",
    "outputId": "6091f7da-0190-4bd3-aa5a-82e3214d2482"
   },
   "outputs": [],
   "source": [
    "from nbresult import ChallengeResult\n",
    "result = ChallengeResult(\n",
    "    'image_data_loading',\n",
    "    img_shape=img_shape,\n",
    "    img_dim=img_dim,\n",
    "    is_portrait=is_portrait,\n",
    "    is_colored_image=is_colored_image\n",
    ")\n",
    "\n",
    "result.write()"
   ]
  },
  {
   "cell_type": "markdown",
   "id": "ba03c718",
   "metadata": {
    "id": "ba03c718"
   },
   "source": [
    "## 2. Processing (50min)"
   ]
  },
  {
   "cell_type": "markdown",
   "id": "08448f33",
   "metadata": {
    "id": "08448f33"
   },
   "source": [
    "*C14 Convertir les données entrantes (images et texte par exemple) en données adaptées pour un réseau de neurones (100%)*"
   ]
  },
  {
   "cell_type": "markdown",
   "id": "66adbb66",
   "metadata": {
    "id": "66adbb66"
   },
   "source": [
    "📝 Store all images from the dataset folder in a `list` of `ndarray` called **dataset_images**\n",
    "\n",
    "💡 It can take a while"
   ]
  },
  {
   "cell_type": "code",
   "execution_count": 10,
   "id": "9bde7713",
   "metadata": {
    "ExecuteTime": {
     "end_time": "2021-07-02T09:35:15.107490Z",
     "start_time": "2021-07-02T09:35:11.749558Z"
    },
    "executionInfo": {
     "elapsed": 3284,
     "status": "ok",
     "timestamp": 1657701505594,
     "user": {
      "displayName": "Louis Demange",
      "userId": "01131558850204017233"
     },
     "user_tz": -120
    },
    "id": "9bde7713",
    "tags": [
     "challengify"
    ]
   },
   "outputs": [],
   "source": [
    "dataset_images = []\n",
    "for i in range(0,len(dataset_paths)):\n",
    "  dataset_images.append(np.array(Image.open(dataset_paths[i])))"
   ]
  },
  {
   "cell_type": "code",
   "execution_count": null,
   "id": "B9TGHcWyeP4j",
   "metadata": {
    "executionInfo": {
     "elapsed": 6,
     "status": "ok",
     "timestamp": 1657701505596,
     "user": {
      "displayName": "Louis Demange",
      "userId": "01131558850204017233"
     },
     "user_tz": -120
    },
    "id": "B9TGHcWyeP4j"
   },
   "outputs": [],
   "source": []
  },
  {
   "cell_type": "markdown",
   "id": "b57a2716",
   "metadata": {
    "id": "b57a2716"
   },
   "source": [
    "### 2.1 Reshape, Resize, Rescale\n",
    "\n",
    "Simplify your dataset and convert it to a single `ndarray`"
   ]
  },
  {
   "cell_type": "markdown",
   "id": "db3c1af3",
   "metadata": {
    "id": "db3c1af3"
   },
   "source": [
    "💡 Recall that your dataset contains colored and black & white images\n",
    "\n",
    "📝 Assign to a `list` **image_dimensions** the two possible number of dimensions for your images "
   ]
  },
  {
   "cell_type": "code",
   "execution_count": 11,
   "id": "d7087ea8",
   "metadata": {
    "ExecuteTime": {
     "end_time": "2021-07-02T09:35:15.974756Z",
     "start_time": "2021-07-02T09:35:15.968528Z"
    },
    "executionInfo": {
     "elapsed": 5,
     "status": "ok",
     "timestamp": 1657701506103,
     "user": {
      "displayName": "Louis Demange",
      "userId": "01131558850204017233"
     },
     "user_tz": -120
    },
    "id": "d7087ea8",
    "tags": [
     "challengify"
    ]
   },
   "outputs": [],
   "source": [
    "image_dimensions = []\n",
    "for i in range(0,len(dataset_images)):\n",
    "  image_dimensions.append(dataset_images[i].ndim)"
   ]
  },
  {
   "cell_type": "markdown",
   "id": "d8c2b5fc",
   "metadata": {
    "id": "d8c2b5fc"
   },
   "source": [
    "📝 Run the cell below to convert all black & white images into colored ones by duplicating the image on three channels  \n",
    "💡 This is for convenience, so as to have only 3D arrays"
   ]
  },
  {
   "cell_type": "code",
   "execution_count": 12,
   "id": "94f9fc55",
   "metadata": {
    "ExecuteTime": {
     "end_time": "2021-07-02T09:35:17.534930Z",
     "start_time": "2021-07-02T09:35:16.787887Z"
    },
    "colab": {
     "base_uri": "https://localhost:8080/"
    },
    "executionInfo": {
     "elapsed": 482,
     "status": "ok",
     "timestamp": 1657701509209,
     "user": {
      "displayName": "Louis Demange",
      "userId": "01131558850204017233"
     },
     "user_tz": -120
    },
    "id": "94f9fc55",
    "outputId": "4beed02b-81fc-4874-acc2-2eeefe477eb0",
    "scrolled": false
   },
   "outputs": [
    {
     "data": {
      "text/plain": [
       "{3}"
      ]
     },
     "execution_count": 12,
     "metadata": {},
     "output_type": "execute_result"
    }
   ],
   "source": [
    "dataset_images = [x if x.ndim==3 else np.repeat(x[:,:,None], 3, axis=2) for x in dataset_images]\n",
    "set([x.ndim for x in dataset_images])"
   ]
  },
  {
   "cell_type": "markdown",
   "id": "84865561",
   "metadata": {
    "id": "84865561"
   },
   "source": [
    "📝 Resize your images to make sure they have the same shape  \n",
    "\n",
    "☑️ Use the method `tensorflow.image.resize`  \n",
    "☑️ The target size is (height=120 pixels, width=100 pixels)  "
   ]
  },
  {
   "cell_type": "code",
   "execution_count": 13,
   "id": "50fbc6ae",
   "metadata": {
    "executionInfo": {
     "elapsed": 991,
     "status": "ok",
     "timestamp": 1657701510192,
     "user": {
      "displayName": "Louis Demange",
      "userId": "01131558850204017233"
     },
     "user_tz": -120
    },
    "id": "50fbc6ae",
    "tags": [
     "challengify"
    ]
   },
   "outputs": [
    {
     "name": "stderr",
     "output_type": "stream",
     "text": [
      "2022-07-13 11:39:03.845809: W tensorflow/stream_executor/platform/default/dso_loader.cc:64] Could not load dynamic library 'libcudart.so.11.0'; dlerror: libcudart.so.11.0: cannot open shared object file: No such file or directory\n",
      "2022-07-13 11:39:03.845878: I tensorflow/stream_executor/cuda/cudart_stub.cc:29] Ignore above cudart dlerror if you do not have a GPU set up on your machine.\n",
      "2022-07-13 11:39:25.339812: I tensorflow/stream_executor/cuda/cuda_gpu_executor.cc:939] successful NUMA node read from SysFS had negative value (-1), but there must be at least one NUMA node, so returning NUMA node zero\n",
      "2022-07-13 11:39:25.344541: W tensorflow/stream_executor/platform/default/dso_loader.cc:64] Could not load dynamic library 'libcudart.so.11.0'; dlerror: libcudart.so.11.0: cannot open shared object file: No such file or directory\n",
      "2022-07-13 11:39:25.350516: W tensorflow/stream_executor/platform/default/dso_loader.cc:64] Could not load dynamic library 'libcublas.so.11'; dlerror: libcublas.so.11: cannot open shared object file: No such file or directory\n",
      "2022-07-13 11:39:25.350721: W tensorflow/stream_executor/platform/default/dso_loader.cc:64] Could not load dynamic library 'libcublasLt.so.11'; dlerror: libcublasLt.so.11: cannot open shared object file: No such file or directory\n",
      "2022-07-13 11:39:25.350863: W tensorflow/stream_executor/platform/default/dso_loader.cc:64] Could not load dynamic library 'libcufft.so.10'; dlerror: libcufft.so.10: cannot open shared object file: No such file or directory\n",
      "2022-07-13 11:39:25.350982: W tensorflow/stream_executor/platform/default/dso_loader.cc:64] Could not load dynamic library 'libcurand.so.10'; dlerror: libcurand.so.10: cannot open shared object file: No such file or directory\n",
      "2022-07-13 11:39:25.358169: W tensorflow/stream_executor/platform/default/dso_loader.cc:64] Could not load dynamic library 'libcusolver.so.11'; dlerror: libcusolver.so.11: cannot open shared object file: No such file or directory\n",
      "2022-07-13 11:39:25.360057: W tensorflow/stream_executor/platform/default/dso_loader.cc:64] Could not load dynamic library 'libcusparse.so.11'; dlerror: libcusparse.so.11: cannot open shared object file: No such file or directory\n",
      "2022-07-13 11:39:25.360206: W tensorflow/stream_executor/platform/default/dso_loader.cc:64] Could not load dynamic library 'libcudnn.so.8'; dlerror: libcudnn.so.8: cannot open shared object file: No such file or directory\n",
      "2022-07-13 11:39:25.360222: W tensorflow/core/common_runtime/gpu/gpu_device.cc:1850] Cannot dlopen some GPU libraries. Please make sure the missing libraries mentioned above are installed properly if you would like to use GPU. Follow the guide at https://www.tensorflow.org/install/gpu for how to download and setup the required libraries for your platform.\n",
      "Skipping registering GPU devices...\n",
      "2022-07-13 11:39:25.398301: I tensorflow/core/platform/cpu_feature_guard.cc:151] This TensorFlow binary is optimized with oneAPI Deep Neural Network Library (oneDNN) to use the following CPU instructions in performance-critical operations:  AVX2 FMA\n",
      "To enable them in other operations, rebuild TensorFlow with the appropriate compiler flags.\n"
     ]
    }
   ],
   "source": [
    "import tensorflow as tf\n",
    "dataset_resized = []\n",
    "for i in range(0,len(dataset_images)):\n",
    "  dataset_resized.append(tf.image.resize(dataset_images[i], [120, 100]))"
   ]
  },
  {
   "cell_type": "code",
   "execution_count": null,
   "id": "l6U4iqWxgzje",
   "metadata": {
    "executionInfo": {
     "elapsed": 14,
     "status": "ok",
     "timestamp": 1657701510811,
     "user": {
      "displayName": "Louis Demange",
      "userId": "01131558850204017233"
     },
     "user_tz": -120
    },
    "id": "l6U4iqWxgzje"
   },
   "outputs": [],
   "source": [
    "\n"
   ]
  },
  {
   "cell_type": "markdown",
   "id": "3ff2e87b",
   "metadata": {
    "id": "3ff2e87b"
   },
   "source": [
    "📝 Now that all images have the same shape, store them as a `ndarray` in **dataset_resized**  \n",
    "☑️ Make sure that the size of **dataset_resized** is $(n_{images},\\:height,\\:width,\\:channels)$"
   ]
  },
  {
   "cell_type": "code",
   "execution_count": 14,
   "id": "39739658",
   "metadata": {
    "ExecuteTime": {
     "end_time": "2021-07-02T09:35:18.201904Z",
     "start_time": "2021-07-02T09:35:17.944109Z"
    },
    "executionInfo": {
     "elapsed": 8,
     "status": "ok",
     "timestamp": 1657701512241,
     "user": {
      "displayName": "Louis Demange",
      "userId": "01131558850204017233"
     },
     "user_tz": -120
    },
    "id": "39739658",
    "tags": [
     "challengify"
    ]
   },
   "outputs": [],
   "source": [
    "dataset_resized = np.array(dataset_resized)"
   ]
  },
  {
   "cell_type": "code",
   "execution_count": 15,
   "id": "nsFQ-gFqjVQf",
   "metadata": {
    "colab": {
     "base_uri": "https://localhost:8080/"
    },
    "executionInfo": {
     "elapsed": 7,
     "status": "ok",
     "timestamp": 1657701512748,
     "user": {
      "displayName": "Louis Demange",
      "userId": "01131558850204017233"
     },
     "user_tz": -120
    },
    "id": "nsFQ-gFqjVQf",
    "outputId": "e506729c-744d-4fe6-db9f-c4809315be1c"
   },
   "outputs": [
    {
     "data": {
      "text/plain": [
       "(498, 120, 100, 3)"
      ]
     },
     "execution_count": 15,
     "metadata": {},
     "output_type": "execute_result"
    }
   ],
   "source": [
    "np.shape(dataset_resized)"
   ]
  },
  {
   "cell_type": "markdown",
   "id": "0701f787",
   "metadata": {
    "id": "0701f787"
   },
   "source": [
    "📝 Store in **dataset_scaled** your scaled images  \n",
    "☑️ All scaled values should be between $0$ and $1$"
   ]
  },
  {
   "cell_type": "code",
   "execution_count": 16,
   "id": "d11c7002",
   "metadata": {
    "ExecuteTime": {
     "end_time": "2021-07-02T09:35:18.255378Z",
     "start_time": "2021-07-02T09:35:18.204011Z"
    },
    "executionInfo": {
     "elapsed": 4,
     "status": "ok",
     "timestamp": 1657701514136,
     "user": {
      "displayName": "Louis Demange",
      "userId": "01131558850204017233"
     },
     "user_tz": -120
    },
    "id": "d11c7002",
    "tags": [
     "challengify"
    ]
   },
   "outputs": [],
   "source": [
    "dataset_scaled = dataset_resized/255"
   ]
  },
  {
   "cell_type": "markdown",
   "id": "ccdeeb0f",
   "metadata": {
    "id": "ccdeeb0f"
   },
   "source": [
    "### 2.2 Create (X, y) sets"
   ]
  },
  {
   "cell_type": "markdown",
   "id": "39fe8c8f",
   "metadata": {
    "id": "39fe8c8f"
   },
   "source": [
    "📝 Run the cell below to add random noise to your images"
   ]
  },
  {
   "cell_type": "code",
   "execution_count": 17,
   "id": "1fd79f84",
   "metadata": {
    "ExecuteTime": {
     "end_time": "2021-07-02T09:35:19.762284Z",
     "start_time": "2021-07-02T09:35:19.154308Z"
    },
    "colab": {
     "base_uri": "https://localhost:8080/"
    },
    "executionInfo": {
     "elapsed": 1857,
     "status": "ok",
     "timestamp": 1657701522378,
     "user": {
      "displayName": "Louis Demange",
      "userId": "01131558850204017233"
     },
     "user_tz": -120
    },
    "id": "1fd79f84",
    "outputId": "1574d055-6bc2-4a16-ed53-392c15e6708b"
   },
   "outputs": [
    {
     "data": {
      "text/plain": [
       "(498, 120, 100, 3)"
      ]
     },
     "execution_count": 17,
     "metadata": {},
     "output_type": "execute_result"
    }
   ],
   "source": [
    "NOISE_LEVEL = 0.2\n",
    "\n",
    "dataset_noisy = np.clip(\n",
    "    dataset_scaled + np.random.normal(\n",
    "        loc=0,\n",
    "        scale=NOISE_LEVEL,\n",
    "        size=dataset_scaled.shape\n",
    "    ).astype(np.float32),\n",
    "    0,\n",
    "    1\n",
    ")\n",
    "dataset_noisy.shape"
   ]
  },
  {
   "cell_type": "markdown",
   "id": "7a31c361",
   "metadata": {
    "id": "7a31c361"
   },
   "source": [
    "📝 Plot a noisy image alongside the normal one to visualize the impact of the random noise you just added"
   ]
  },
  {
   "cell_type": "code",
   "execution_count": 18,
   "id": "a01e70bf",
   "metadata": {
    "ExecuteTime": {
     "end_time": "2021-07-02T09:35:29.724857Z",
     "start_time": "2021-07-02T09:35:29.488078Z"
    },
    "colab": {
     "base_uri": "https://localhost:8080/",
     "height": 268
    },
    "executionInfo": {
     "elapsed": 1216,
     "status": "ok",
     "timestamp": 1657701528191,
     "user": {
      "displayName": "Louis Demange",
      "userId": "01131558850204017233"
     },
     "user_tz": -120
    },
    "id": "a01e70bf",
    "outputId": "c1a70359-5555-452f-b6e1-6730b6370081",
    "tags": [
     "challengify"
    ]
   },
   "outputs": [
    {
     "data": {
      "image/png": "[encoded data removed]",
      "text/plain": [
       "<Figure size 432x288 with 1 Axes>"
      ]
     },
     "metadata": {
      "needs_background": "light"
     },
     "output_type": "display_data"
    }
   ],
   "source": [
    "im = dataset_noisy[0]\n",
    "imshow(im)\n",
    "plt.show()"
   ]
  },
  {
   "cell_type": "markdown",
   "id": "3d72d4f7",
   "metadata": {
    "id": "3d72d4f7"
   },
   "source": [
    "📝 **Create your `(X_train, Y_train)`, `(X_test, Y_test)` train and test sets**  \n",
    "☑️ Use `sklearn`'s `train_test_split` method  \n",
    "☑️ Your test set should consist of 20% of your total observations, randomly sampled  \n",
    "💡 Recall your objective: *For a given noisy image $X$, your model should learn to predict the denoised image $y$* to choose $X$ and $y$."
   ]
  },
  {
   "cell_type": "code",
   "execution_count": 24,
   "id": "76718804",
   "metadata": {
    "ExecuteTime": {
     "end_time": "2021-07-02T09:35:35.857778Z",
     "start_time": "2021-07-02T09:35:35.773969Z"
    },
    "executionInfo": {
     "elapsed": 424,
     "status": "ok",
     "timestamp": 1657701534255,
     "user": {
      "displayName": "Louis Demange",
      "userId": "01131558850204017233"
     },
     "user_tz": -120
    },
    "id": "76718804",
    "tags": [
     "challengify"
    ]
   },
   "outputs": [],
   "source": [
    "from sklearn.model_selection import train_test_split\n",
    "X_train, X_test, Y_train, Y_test = train_test_split(dataset_noisy,dataset_scaled, test_size = 0.2)"
   ]
  },
  {
   "cell_type": "markdown",
   "id": "91d5d32a",
   "metadata": {
    "ExecuteTime": {
     "end_time": "2021-10-31T15:21:44.178889Z",
     "start_time": "2021-10-31T15:21:44.173713Z"
    },
    "id": "91d5d32a"
   },
   "source": [
    "💾 **Run the cell below to submit your results**"
   ]
  },
  {
   "cell_type": "code",
   "execution_count": 25,
   "id": "25305b0b",
   "metadata": {
    "ExecuteTime": {
     "end_time": "2021-07-02T09:35:42.369782Z",
     "start_time": "2021-07-02T09:35:42.325003Z"
    },
    "executionInfo": {
     "elapsed": 10,
     "status": "aborted",
     "timestamp": 1657701429868,
     "user": {
      "displayName": "Louis Demange",
      "userId": "01131558850204017233"
     },
     "user_tz": -120
    },
    "id": "25305b0b"
   },
   "outputs": [],
   "source": [
    "from nbresult import ChallengeResult\n",
    "result = ChallengeResult(\n",
    "    \"image_preprocessing\",\n",
    "    X_train_shape = X_train.shape,\n",
    "    Y_train_shape = Y_train.shape,\n",
    "    X_std = X_train[:,:,:,0].std(),\n",
    "    Y_std = Y_train[:,:,:,0].std(),\n",
    "    first_image = Y_train[0]\n",
    ")\n",
    "result.write()"
   ]
  },
  {
   "cell_type": "markdown",
   "id": "34d0de6c",
   "metadata": {
    "id": "34d0de6c"
   },
   "source": [
    "## 3. Convolutional Neural Network (1h10)"
   ]
  },
  {
   "cell_type": "markdown",
   "id": "51b56afa",
   "metadata": {
    "id": "51b56afa"
   },
   "source": [
    "*C15 Maîtriser les différentes architectures de réseau de neurones : convolutifs pour les images & récurrents pour les séries temporelles et les modèles de traitement automatique du langage (NLP) pour le texte (50%)*  \n",
    "\n",
    "*C16 Utiliser un réseau de neurones convolutifs pour étiqueter des images (100%)*"
   ]
  },
  {
   "cell_type": "markdown",
   "id": "539a8296",
   "metadata": {
    "id": "539a8296"
   },
   "source": [
    "A commonly used neural network architecture for image denoising is the __AutoEncoder__.\n",
    "\n",
    "<img src='https://github.com/lewagon/data-images/blob/master/DL/autoencoder.png?raw=true'>\n",
    "\n",
    "Its goal is to learn a compact representation of your data to reconstruct them as precisely as possible.  \n",
    "The loss for such model must incentivize it to have __an output as close to the input as possible__.\n",
    "\n",
    "For this challenge, __you will only be asked to code the Encoder part of the network__, since building a Decoder leverages layers architectures you are not familiar with (yet)."
   ]
  },
  {
   "cell_type": "markdown",
   "id": "a82ac7a1",
   "metadata": {
    "id": "a82ac7a1"
   },
   "source": [
    "**If you haven't managed to build your own (X,Y) training sets**  \n",
    "📝 Copy and paste the code snippet below in a new cell and run it    \n",
    "💡 It will give you clean `(X_train, Y_train)`, `(X_test, Y_test)` for this section\n",
    "\n",
    "```python\n",
    "! curl https://wagon-public-datasets.s3.amazonaws.com/certification_france_2021_q2/data_painting_solution.pickle > data_painting_solution.pickle\n",
    "\n",
    "import pickle\n",
    "with open(\"data_painting_solution.pickle\", \"rb\") as file:\n",
    "    (X_train, Y_train, X_test, Y_test) = pickle.load(file)\n",
    "    \n",
    "! rm data_painting_solution.pickle\n",
    "```"
   ]
  },
  {
   "cell_type": "code",
   "execution_count": 26,
   "id": "866bfbd9",
   "metadata": {
    "colab": {
     "base_uri": "https://localhost:8080/"
    },
    "executionInfo": {
     "elapsed": 13189,
     "status": "ok",
     "timestamp": 1657701561508,
     "user": {
      "displayName": "Louis Demange",
      "userId": "01131558850204017233"
     },
     "user_tz": -120
    },
    "id": "866bfbd9",
    "outputId": "34a2ed97-76bc-4e7a-8af9-6a5906cefeda"
   },
   "outputs": [
    {
     "name": "stdout",
     "output_type": "stream",
     "text": [
      "  % Total    % Received % Xferd  Average Speed   Time    Time     Time  Current\n",
      "                                 Dload  Upload   Total   Spent    Left  Speed\n",
      "100  136M  100  136M    0     0  2024k      0  0:01:09  0:01:09 --:--:-- 2339k422k      0  0:01:38  0:00:01  0:01:37 1421k\n"
     ]
    }
   ],
   "source": [
    "! curl https://wagon-public-datasets.s3.amazonaws.com/certification_france_2021_q2/data_painting_solution.pickle > data_painting_solution.pickle\n",
    "\n",
    "import pickle\n",
    "with open(\"data_painting_solution.pickle\", \"rb\") as file:\n",
    "    (X_train, Y_train, X_test, Y_test) = pickle.load(file)\n",
    "\n",
    "! rm data_painting_solution.pickle"
   ]
  },
  {
   "cell_type": "markdown",
   "id": "0453fe06",
   "metadata": {
    "id": "0453fe06"
   },
   "source": [
    "### 3.1 Architecture"
   ]
  },
  {
   "cell_type": "markdown",
   "id": "a2ea5abf",
   "metadata": {
    "id": "a2ea5abf"
   },
   "source": [
    "📝 Run the cell below that defines the **decoder**"
   ]
  },
  {
   "cell_type": "code",
   "execution_count": 27,
   "id": "aa778c4a",
   "metadata": {
    "ExecuteTime": {
     "end_time": "2021-07-02T09:37:03.877037Z",
     "start_time": "2021-07-02T09:37:03.761216Z"
    },
    "colab": {
     "base_uri": "https://localhost:8080/"
    },
    "executionInfo": {
     "elapsed": 26,
     "status": "ok",
     "timestamp": 1657701561509,
     "user": {
      "displayName": "Louis Demange",
      "userId": "01131558850204017233"
     },
     "user_tz": -120
    },
    "id": "aa778c4a",
    "outputId": "ccda736f-dc20-4c26-ce05-549029992e17"
   },
   "outputs": [
    {
     "name": "stdout",
     "output_type": "stream",
     "text": [
      "Model: \"decoder\"\n",
      "_________________________________________________________________\n",
      " Layer (type)                Output Shape              Param #   \n",
      "=================================================================\n",
      " reshape (Reshape)           (None, 30, 25, 8)         0         \n",
      "                                                                 \n",
      " conv2d_transpose (Conv2DTra  (None, 60, 50, 16)       1168      \n",
      " nspose)                                                         \n",
      "                                                                 \n",
      " conv2d_transpose_1 (Conv2DT  (None, 120, 100, 32)     4640      \n",
      " ranspose)                                                       \n",
      "                                                                 \n",
      " conv2d (Conv2D)             (None, 120, 100, 3)       867       \n",
      "                                                                 \n",
      "=================================================================\n",
      "Total params: 6,675\n",
      "Trainable params: 6,675\n",
      "Non-trainable params: 0\n",
      "_________________________________________________________________\n"
     ]
    }
   ],
   "source": [
    "from tensorflow.keras import Sequential, layers\n",
    "# We choose to compress images into a latent_dimension of size 6000\n",
    "latent_dimensions = 6000\n",
    "\n",
    "# We build a decoder that takes 1D-vectors of size 6000 to reconstruct images of shape (120,100,3)\n",
    "decoder = Sequential(name='decoder')\n",
    "decoder.add(layers.Reshape((30, 25, 8), input_dim=latent_dimensions))\n",
    "decoder.add(layers.Conv2DTranspose(filters=16, kernel_size=3, strides=2, padding=\"same\", activation=\"relu\"))\n",
    "decoder.add(layers.Conv2DTranspose(filters=32, kernel_size=3, strides=2, padding=\"same\", activation=\"relu\"))\n",
    "decoder.add(layers.Conv2D(filters=3, kernel_size=3, padding=\"same\", activation=\"sigmoid\"))\n",
    "decoder.summary()"
   ]
  },
  {
   "cell_type": "markdown",
   "id": "6c6898a0",
   "metadata": {
    "id": "6c6898a0"
   },
   "source": [
    "📝 Store in **encoder** a model defined using `Sequential` that plugs correctly with the **decoder** defined above  \n",
    "\n",
    "☑️ The output of your **encoder**, before flattening, is the same shape as the input of the **decoder**  \n",
    "☑️ Use a convolutional neural network architecture without transfer learning  \n",
    "☑️ Keep it simple  \n",
    "☑️ Print model summary"
   ]
  },
  {
   "cell_type": "code",
   "execution_count": null,
   "id": "984a5459",
   "metadata": {
    "ExecuteTime": {
     "end_time": "2021-07-02T09:37:05.122352Z",
     "start_time": "2021-07-02T09:37:05.095337Z"
    },
    "executionInfo": {
     "elapsed": 6,
     "status": "ok",
     "timestamp": 1657704588060,
     "user": {
      "displayName": "Louis Demange",
      "userId": "01131558850204017233"
     },
     "user_tz": -120
    },
    "id": "984a5459",
    "tags": [
     "challengify"
    ]
   },
   "outputs": [
    {
     "name": "stderr",
     "output_type": "stream",
     "text": [
      "2022-07-13 11:43:09.027591: W tensorflow/core/framework/cpu_allocator_impl.cc:82] Allocation of 912384000 exceeds 10% of free system memory.\n",
      "2022-07-13 11:43:13.408504: W tensorflow/core/framework/cpu_allocator_impl.cc:82] Allocation of 912384000 exceeds 10% of free system memory.\n",
      "2022-07-13 11:43:25.639688: W tensorflow/core/framework/cpu_allocator_impl.cc:82] Allocation of 912384000 exceeds 10% of free system memory.\n"
     ]
    }
   ],
   "source": [
    "from tensorflow.keras.layers import Conv2D, MaxPooling2D, Flatten, Dense\n",
    "\n",
    "latent_dimension = 6000\n",
    "\n",
    "encoder = Sequential(name='encoder')\n",
    "encoder.add(Conv2D(16, (3,3), input_shape=(120, 100, 3), activation='relu'))\n",
    "encoder.add(MaxPooling2D(2))\n",
    "\n",
    "encoder.add(Conv2D(32, (3, 3), activation='relu'))\n",
    "#encoder.add(MaxPooling2D(2))\n",
    "\n",
    "encoder.add(Conv2D(64, (3, 3), activation='relu'))\n",
    "encoder.add(MaxPooling2D(2))     \n",
    "\n",
    "encoder.add(Flatten())\n",
    "encoder.add(Dense(latent_dimension, activation='sigmoid'))"
   ]
  },
  {
   "cell_type": "code",
   "execution_count": null,
   "id": "UUmGPGLXqDWZ",
   "metadata": {
    "colab": {
     "base_uri": "https://localhost:8080/"
    },
    "executionInfo": {
     "elapsed": 1151,
     "status": "ok",
     "timestamp": 1657701570108,
     "user": {
      "displayName": "Louis Demange",
      "userId": "01131558850204017233"
     },
     "user_tz": -120
    },
    "id": "UUmGPGLXqDWZ",
    "outputId": "d4eefc3c-1ebe-40e1-fd51-870d2c48df8c"
   },
   "outputs": [],
   "source": [
    "encoder.summary()"
   ]
  },
  {
   "cell_type": "markdown",
   "id": "637a5b6a",
   "metadata": {
    "id": "637a5b6a"
   },
   "source": [
    "📝 Run the cell below to construct the full **autoencoder**  \n",
    "☑️ Look carefully at the summary to make sure your **encoder** fits with the **decoder**"
   ]
  },
  {
   "cell_type": "code",
   "execution_count": null,
   "id": "c5222bca",
   "metadata": {
    "ExecuteTime": {
     "end_time": "2021-07-02T09:37:06.320520Z",
     "start_time": "2021-07-02T09:37:06.273266Z"
    },
    "colab": {
     "base_uri": "https://localhost:8080/"
    },
    "executionInfo": {
     "elapsed": 518,
     "status": "ok",
     "timestamp": 1657704597680,
     "user": {
      "displayName": "Louis Demange",
      "userId": "01131558850204017233"
     },
     "user_tz": -120
    },
    "id": "c5222bca",
    "outputId": "d37f7d8d-389b-4ae7-b20c-1a30579aa741"
   },
   "outputs": [],
   "source": [
    "from tensorflow.keras import Model\n",
    "x = layers.Input(shape=(120, 100, 3))\n",
    "autoencoder = Model(x, decoder(encoder(x)), name=\"autoencoder\")\n",
    "autoencoder.summary()"
   ]
  },
  {
   "cell_type": "markdown",
   "id": "85758852",
   "metadata": {
    "id": "85758852"
   },
   "source": [
    "### 3.2 Training"
   ]
  },
  {
   "cell_type": "markdown",
   "id": "4fb0f3c1",
   "metadata": {
    "id": "4fb0f3c1"
   },
   "source": [
    "📝 Store in **score_baseline** your baseline score  \n",
    "☑️ Use the Mean Absolute Error  \n",
    "☑️ Your baseline is the *'dumb'* case where you don't manage to denoise anything at all  "
   ]
  },
  {
   "cell_type": "code",
   "execution_count": null,
   "id": "d589a9bd",
   "metadata": {
    "ExecuteTime": {
     "end_time": "2021-07-02T09:37:08.363329Z",
     "start_time": "2021-07-02T09:37:08.332923Z"
    },
    "colab": {
     "base_uri": "https://localhost:8080/"
    },
    "executionInfo": {
     "elapsed": 617,
     "status": "ok",
     "timestamp": 1657701588015,
     "user": {
      "displayName": "Louis Demange",
      "userId": "01131558850204017233"
     },
     "user_tz": -120
    },
    "id": "d589a9bd",
    "outputId": "e8cc7019-5bc9-4ca5-a60b-d8241a0abeef",
    "tags": [
     "challengify"
    ]
   },
   "outputs": [],
   "source": [
    "score_baseline = 1/len(X_train) #Accuracy\n",
    "score_baseline"
   ]
  },
  {
   "cell_type": "markdown",
   "id": "def7c160",
   "metadata": {
    "id": "def7c160"
   },
   "source": [
    "📝 Train your **autoencoder**\n",
    "\n",
    "☑️ Use an appropriate loss for the task at hand  \n",
    "☑️ Make sure your model does not overfit\n",
    "\n",
    "💡 You will not be judged by the computing power of your computer, your training should last under 3 minutes"
   ]
  },
  {
   "cell_type": "code",
   "execution_count": null,
   "id": "ac5ec508",
   "metadata": {
    "ExecuteTime": {
     "end_time": "2021-07-02T09:37:09.655742Z",
     "start_time": "2021-07-02T09:37:09.641065Z"
    },
    "colab": {
     "base_uri": "https://localhost:8080/"
    },
    "executionInfo": {
     "elapsed": 6401,
     "status": "ok",
     "timestamp": 1657704681576,
     "user": {
      "displayName": "Louis Demange",
      "userId": "01131558850204017233"
     },
     "user_tz": -120
    },
    "id": "ac5ec508",
    "outputId": "6f2ccd71-3a5c-40f9-8ba3-e290d0b5d83c",
    "tags": [
     "challengify"
    ]
   },
   "outputs": [],
   "source": [
    "autoencoder.compile(loss='mse', optimizer='adam')\n",
    "history_denoising = autoencoder.fit(X_train, Y_train, epochs = 5, batch_size=32, validation_split = 0.3) #"
   ]
  },
  {
   "cell_type": "markdown",
   "id": "ef3ef73b",
   "metadata": {
    "id": "ef3ef73b"
   },
   "source": [
    "📝 Plot your training and validation loss at each epoch  \n",
    "☑️ Save your figure as **history_cnn.png** in the **tests/** directory  \n",
    "☑️ Make sure to keep the code below at the end of the cell that contains your plots  \n",
    "```python\n",
    "fig = plt.gcf()\n",
    "fig.savefig(\"tests/history_cnn.png\")\n",
    "```"
   ]
  },
  {
   "cell_type": "code",
   "execution_count": null,
   "id": "a7e61180",
   "metadata": {
    "ExecuteTime": {
     "end_time": "2021-07-02T09:38:12.503826Z",
     "start_time": "2021-07-02T09:38:12.477619Z"
    },
    "colab": {
     "base_uri": "https://localhost:8080/",
     "height": 920
    },
    "executionInfo": {
     "elapsed": 924,
     "status": "error",
     "timestamp": 1657704682485,
     "user": {
      "displayName": "Louis Demange",
      "userId": "01131558850204017233"
     },
     "user_tz": -120
    },
    "id": "a7e61180",
    "outputId": "76cfedce-d88c-44f6-8f54-6ae940e52c0c"
   },
   "outputs": [],
   "source": [
    "# Plot below your train/val loss history\n",
    "font = {'size' : 14}\n",
    "font_maintitle = {'weight' : 'bold', 'size' : 22}\n",
    "font_title = {'weight' : 'bold', 'size' : 14}\n",
    "plt.figure(figsize=(13,9))\n",
    "plt.plot(history_denoising.history['loss'], label = 'train')\n",
    "plt.plot(history_denoising.history['val_loss'], label = 'val')\n",
    "plt.title(f\"loss = f(epoch)\",**font_title)\n",
    "plt.xlabel('epoch',**font)\n",
    "plt.ylabel('loss',**font)\n",
    "plt.legend()\n",
    "plt.show()\n",
    "#ax1.set_ylim(0., 2.2)\n",
    "#plt.plot.set_title('loss')\n",
    "#ax1.legend()\n",
    "\n",
    "# Run this code to save your figure as png in the tests folder\n",
    "fig = plt.gcf()\n",
    "fig.savefig(\"tests/history_cnn.png\")"
   ]
  },
  {
   "cell_type": "markdown",
   "id": "11c8d885",
   "metadata": {
    "id": "11c8d885"
   },
   "source": [
    "📝 Evaluate your performances on your test set  \n",
    "☑️ Store in **Y_pred** your denoised test set  \n",
    "☑️ Store in **score_test** your Mean Absolute Error using **Y_pred** and **Y_test**"
   ]
  },
  {
   "cell_type": "code",
   "execution_count": null,
   "id": "c13d748f",
   "metadata": {
    "ExecuteTime": {
     "end_time": "2021-07-02T09:38:16.078595Z",
     "start_time": "2021-07-02T09:38:15.780624Z"
    },
    "executionInfo": {
     "elapsed": 8,
     "status": "aborted",
     "timestamp": 1657704682482,
     "user": {
      "displayName": "Louis Demange",
      "userId": "01131558850204017233"
     },
     "user_tz": -120
    },
    "id": "c13d748f",
    "tags": [
     "challengify"
    ]
   },
   "outputs": [],
   "source": [
    "Y_pred = autoencoder.predict(X_test)"
   ]
  },
  {
   "cell_type": "code",
   "execution_count": null,
   "id": "aIom-l5_0ppJ",
   "metadata": {
    "executionInfo": {
     "elapsed": 8,
     "status": "aborted",
     "timestamp": 1657704682484,
     "user": {
      "displayName": "Louis Demange",
      "userId": "01131558850204017233"
     },
     "user_tz": -120
    },
    "id": "aIom-l5_0ppJ"
   },
   "outputs": [],
   "source": [
    "from sklearn.metrics import mean_absolute_error\n",
    "mean_absolute_error(Y_pred.flatten(), Y_test.flatten())"
   ]
  },
  {
   "cell_type": "markdown",
   "id": "8a7a63d9",
   "metadata": {
    "id": "8a7a63d9"
   },
   "source": [
    "📝 Run the cell below to check your result on several image  \n",
    "💡 We asked for a small model, so don't worry if your prediction seems in significantly lower quality than the original"
   ]
  },
  {
   "cell_type": "code",
   "execution_count": null,
   "id": "60816a03",
   "metadata": {
    "ExecuteTime": {
     "end_time": "2021-07-02T09:40:41.062550Z",
     "start_time": "2021-07-02T09:40:40.590459Z"
    },
    "colab": {
     "base_uri": "https://localhost:8080/",
     "height": 293,
     "referenced_widgets": [
      "2eafcf3a0c76460a95a2bfddc28cb61b",
      "30750384a9cc44c18e941248db7514fc",
      "5f2d07982ba140bb9b3d5264519d8417",
      "38d92dd33d274530add542160d462cba",
      "4a8d5c6f7f9b45959ffbdb7091b792cf",
      "a381fb158c25400493009e43836f8ecf",
      "f84b603131b74cf798dd26a957d6ef70"
     ]
    },
    "executionInfo": {
     "elapsed": 2198,
     "status": "ok",
     "timestamp": 1657704685168,
     "user": {
      "displayName": "Louis Demange",
      "userId": "01131558850204017233"
     },
     "user_tz": -120
    },
    "id": "60816a03",
    "outputId": "d6b66969-d2a9-4bcc-816f-ca7316570295"
   },
   "outputs": [],
   "source": [
    "from ipywidgets import interact\n",
    "\n",
    "@interact(index=range(X_test.shape[0]))\n",
    "def plot(index):\n",
    "    idx = index\n",
    "\n",
    "    fig, axs = plt.subplots(1,3, figsize=(10,5))\n",
    "    axs[0].imshow(Y_test[idx])\n",
    "    axs[0].set_title(\"Clean image.\")\n",
    "\n",
    "    axs[1].imshow(X_test[idx])\n",
    "    axs[1].set_title(\"Noisy image.\")\n",
    "\n",
    "    axs[2].imshow(Y_pred[idx])\n",
    "    axs[2].set_title(\"Prediction.\")"
   ]
  },
  {
   "cell_type": "markdown",
   "id": "87c46729",
   "metadata": {
    "id": "87c46729"
   },
   "source": [
    "📝 Choose one of your predicted denoised image and save it  \n",
    "☑️ The target path is **tests/image_denoised.png**"
   ]
  },
  {
   "cell_type": "code",
   "execution_count": null,
   "id": "c5cb8209",
   "metadata": {
    "colab": {
     "base_uri": "https://localhost:8080/",
     "height": 285
    },
    "executionInfo": {
     "elapsed": 1215,
     "status": "ok",
     "timestamp": 1657704834010,
     "user": {
      "displayName": "Louis Demange",
      "userId": "01131558850204017233"
     },
     "user_tz": -120
    },
    "id": "c5cb8209",
    "outputId": "dfd46bb1-025d-426a-f71f-4ae5e1d70e2e",
    "tags": [
     "challengify"
    ]
   },
   "outputs": [],
   "source": [
    "imshow(Y_pred[4])\n",
    "fig = plt.gcf()\n",
    "fig.savefig(\"tests/image_denoised.png\")"
   ]
  },
  {
   "cell_type": "markdown",
   "id": "5c7b71cf",
   "metadata": {
    "ExecuteTime": {
     "end_time": "2021-10-31T15:21:44.178889Z",
     "start_time": "2021-10-31T15:21:44.173713Z"
    },
    "id": "5c7b71cf"
   },
   "source": [
    "💾 **Run the cell below to submit your results**"
   ]
  },
  {
   "cell_type": "code",
   "execution_count": null,
   "id": "3ce318da",
   "metadata": {
    "ExecuteTime": {
     "end_time": "2021-07-02T09:40:52.917607Z",
     "start_time": "2021-07-02T09:40:52.905810Z"
    },
    "id": "3ce318da"
   },
   "outputs": [],
   "source": [
    "from nbresult import ChallengeResult\n",
    "from tensorflow import size\n",
    "\n",
    "result = ChallengeResult(\n",
    "    \"image_network\",\n",
    "    input_shape = list(encoder.input.shape),\n",
    "    output_shape = list(encoder.output.shape),\n",
    "    layer_names = [layer.name for layer in encoder.layers],\n",
    "    trainable_params = sum([size(w_matrix).numpy() for w_matrix in encoder.trainable_variables]),\n",
    "    score_baseline = score_baseline,\n",
    "    score_test = score_test,\n",
    ")\n",
    "result.write()"
   ]
  },
  {
   "cell_type": "markdown",
   "id": "677705d0",
   "metadata": {
    "id": "677705d0"
   },
   "source": [
    "# 🎙️ Lyrics detector Challenge (1h)"
   ]
  },
  {
   "cell_type": "markdown",
   "id": "67b0807f",
   "metadata": {
    "id": "67b0807f"
   },
   "source": [
    "🎯 Design and train a lyrics classifier  \n",
    "☑️ For a given verse $X$, your model should learn to predict the artist $y$  \n",
    "💡 For this challenge the data processing is given"
   ]
  },
  {
   "cell_type": "markdown",
   "id": "2eb56507",
   "metadata": {
    "id": "2eb56507"
   },
   "source": [
    "💡 This challenge assesses the following skills:\n",
    "- C15 Maîtriser les différentes architectures de réseau de neurones : convolutifs pour les images & récurrents pour les séries temporelles et les modèles de traitement automatique du langage (NLP) pour le texte (50%)\n",
    "- C17 Utiliser un réseau de neurones pour comprendre l'intention d'une phrase en langage naturel (100%)"
   ]
  },
  {
   "cell_type": "markdown",
   "id": "8941916a",
   "metadata": {
    "id": "8941916a"
   },
   "source": [
    "## 0. Imports\n",
    "\n",
    "☑️ Use the cell below to load the packages you use in this challenge  \n",
    "💡 All packages used in the (given) preprocessing are imported here, make sure to not delete them"
   ]
  },
  {
   "cell_type": "code",
   "execution_count": 2,
   "id": "c8539678",
   "metadata": {
    "ExecuteTime": {
     "end_time": "2021-07-02T08:31:43.491944Z",
     "start_time": "2021-07-02T08:31:37.265021Z"
    },
    "id": "c8539678"
   },
   "outputs": [],
   "source": [
    "# Arrays\n",
    "import numpy as np\n",
    "import pandas as pd\n",
    "\n",
    "# Plot\n",
    "import matplotlib.pyplot as plt\n",
    "import seaborn as sns\n",
    "\n",
    "# Processing\n",
    "from tensorflow.keras.preprocessing.text import text_to_word_sequence\n",
    "from tensorflow.keras.preprocessing.sequence import pad_sequences\n",
    "from sklearn.preprocessing import OneHotEncoder\n",
    "\n",
    "# Model\n",
    "from sklearn.model_selection import train_test_split"
   ]
  },
  {
   "cell_type": "markdown",
   "id": "7498b857",
   "metadata": {
    "id": "7498b857"
   },
   "source": [
    "## 1. Load Data (given)  "
   ]
  },
  {
   "cell_type": "markdown",
   "id": "ece36ff7",
   "metadata": {
    "id": "ece36ff7"
   },
   "source": [
    "📝 Let's download the dataset  \n",
    "☑️ Keep the original, unaltered data in **raw_data** and work with its copy, **data**  \n",
    "💡 It contains around 4k verses of lyrics from 3 different artists (Drake, Ed Sheeran and Kanye West)"
   ]
  },
  {
   "cell_type": "code",
   "execution_count": 3,
   "id": "9cff73cf",
   "metadata": {
    "ExecuteTime": {
     "end_time": "2021-06-25T17:22:16.654079Z",
     "start_time": "2021-06-25T17:22:16.207433Z"
    },
    "id": "9cff73cf"
   },
   "outputs": [
    {
     "data": {
      "text/html": [
       "<div>\n",
       "<style scoped>\n",
       "    .dataframe tbody tr th:only-of-type {\n",
       "        vertical-align: middle;\n",
       "    }\n",
       "\n",
       "    .dataframe tbody tr th {\n",
       "        vertical-align: top;\n",
       "    }\n",
       "\n",
       "    .dataframe thead th {\n",
       "        text-align: right;\n",
       "    }\n",
       "</style>\n",
       "<table border=\"1\" class=\"dataframe\">\n",
       "  <thead>\n",
       "    <tr style=\"text-align: right;\">\n",
       "      <th></th>\n",
       "      <th>artist</th>\n",
       "      <th>verse</th>\n",
       "    </tr>\n",
       "  </thead>\n",
       "  <tbody>\n",
       "    <tr>\n",
       "      <th>0</th>\n",
       "      <td>Drake</td>\n",
       "      <td>Ayy, woah Ayy, ayy Yeah</td>\n",
       "    </tr>\n",
       "    <tr>\n",
       "      <th>1</th>\n",
       "      <td>Drake</td>\n",
       "      <td>I'm makin' a change today The liquor been taki...</td>\n",
       "    </tr>\n",
       "    <tr>\n",
       "      <th>2</th>\n",
       "      <td>Drake</td>\n",
       "      <td>I can't just be with you and only you Yeah, I ...</td>\n",
       "    </tr>\n",
       "    <tr>\n",
       "      <th>3</th>\n",
       "      <td>Drake</td>\n",
       "      <td>Well, summer, all I did was rest, okay? And Ne...</td>\n",
       "    </tr>\n",
       "    <tr>\n",
       "      <th>4</th>\n",
       "      <td>Drake</td>\n",
       "      <td>I'm makin' a change today The liquor been taki...</td>\n",
       "    </tr>\n",
       "    <tr>\n",
       "      <th>...</th>\n",
       "      <td>...</td>\n",
       "      <td>...</td>\n",
       "    </tr>\n",
       "    <tr>\n",
       "      <th>3970</th>\n",
       "      <td>Kanye West</td>\n",
       "      <td>Dame was like, \"Yo you got a deal with Capitol...</td>\n",
       "    </tr>\n",
       "    <tr>\n",
       "      <th>3971</th>\n",
       "      <td>Kanye West</td>\n",
       "      <td>Then one day I just went ahead and played it, ...</td>\n",
       "    </tr>\n",
       "    <tr>\n",
       "      <th>3972</th>\n",
       "      <td>Kanye West</td>\n",
       "      <td>\"I ain't gonna front, it's kinda hot.\"</td>\n",
       "    </tr>\n",
       "    <tr>\n",
       "      <th>3973</th>\n",
       "      <td>Kanye West</td>\n",
       "      <td>Like they still weren't looking at me like a r...</td>\n",
       "    </tr>\n",
       "    <tr>\n",
       "      <th>3974</th>\n",
       "      <td>Kanye West</td>\n",
       "      <td>\"You gotta be under an umbrella, you'll get ra...</td>\n",
       "    </tr>\n",
       "  </tbody>\n",
       "</table>\n",
       "<p>3975 rows × 2 columns</p>\n",
       "</div>"
      ],
      "text/plain": [
       "          artist                                              verse\n",
       "0          Drake                            Ayy, woah Ayy, ayy Yeah\n",
       "1          Drake  I'm makin' a change today The liquor been taki...\n",
       "2          Drake  I can't just be with you and only you Yeah, I ...\n",
       "3          Drake  Well, summer, all I did was rest, okay? And Ne...\n",
       "4          Drake  I'm makin' a change today The liquor been taki...\n",
       "...          ...                                                ...\n",
       "3970  Kanye West  Dame was like, \"Yo you got a deal with Capitol...\n",
       "3971  Kanye West  Then one day I just went ahead and played it, ...\n",
       "3972  Kanye West             \"I ain't gonna front, it's kinda hot.\"\n",
       "3973  Kanye West  Like they still weren't looking at me like a r...\n",
       "3974  Kanye West  \"You gotta be under an umbrella, you'll get ra...\n",
       "\n",
       "[3975 rows x 2 columns]"
      ]
     },
     "execution_count": 3,
     "metadata": {},
     "output_type": "execute_result"
    }
   ],
   "source": [
    "raw_data = pd.read_csv(\"https://wagon-public-datasets.s3.amazonaws.com/certification_france_2021_q2/verses.csv\")\n",
    "data = raw_data.copy()\n",
    "data"
   ]
  },
  {
   "cell_type": "markdown",
   "id": "d271ead6",
   "metadata": {
    "id": "d271ead6"
   },
   "source": [
    "📝  Look at the 19th verse  \n",
    "💡 Notice the unicode characters, for instance `\\u2005`"
   ]
  },
  {
   "cell_type": "code",
   "execution_count": 4,
   "id": "a0def904",
   "metadata": {
    "ExecuteTime": {
     "end_time": "2021-06-25T17:22:16.663663Z",
     "start_time": "2021-06-25T17:22:16.658103Z"
    },
    "id": "a0def904"
   },
   "outputs": [
    {
     "data": {
      "text/plain": [
       "'Ayy, yeah Pipe this shit up and I turn this shit up When I was down, I\\u2005was\\u2005down Now them diamonds\\u2005for fun like damn Ayy, yeah'"
      ]
     },
     "execution_count": 4,
     "metadata": {},
     "output_type": "execute_result"
    }
   ],
   "source": [
    "raw_data.verse[18]"
   ]
  },
  {
   "cell_type": "markdown",
   "id": "16ed4ff3",
   "metadata": {
    "id": "16ed4ff3"
   },
   "source": [
    "📝 Run the cell below to decode unicode characters  \n",
    "💡 We provide you with a method using [`unidecode.unidecode()`](https://pypi.org/project/Unidecode/) to do so  \n",
    "☑️ Install the `unidecode` package if needed"
   ]
  },
  {
   "cell_type": "code",
   "execution_count": 8,
   "id": "c2aa8648",
   "metadata": {
    "ExecuteTime": {
     "end_time": "2021-06-25T17:22:16.840659Z",
     "start_time": "2021-06-25T17:22:16.666254Z"
    },
    "id": "c2aa8648"
   },
   "outputs": [
    {
     "data": {
      "text/plain": [
       "'Ayy, yeah Pipe this shit up and I turn this shit up When I was down, I was down Now them diamonds for fun like damn Ayy, yeah'"
      ]
     },
     "execution_count": 8,
     "metadata": {},
     "output_type": "execute_result"
    }
   ],
   "source": [
    "from unidecode import unidecode\n",
    "data[\"verse\"] = data[\"verse\"].map(unidecode)\n",
    "data.verse[18]"
   ]
  },
  {
   "cell_type": "markdown",
   "id": "0a129928",
   "metadata": {
    "id": "0a129928"
   },
   "source": [
    "📝 Run the cell below to drop duplicated verses    \n",
    "💡 Observing duplicates happens quite often with music lyrics  "
   ]
  },
  {
   "cell_type": "code",
   "execution_count": 9,
   "id": "fa8283ee",
   "metadata": {
    "id": "fa8283ee"
   },
   "outputs": [
    {
     "data": {
      "text/plain": [
       "944"
      ]
     },
     "execution_count": 9,
     "metadata": {},
     "output_type": "execute_result"
    }
   ],
   "source": [
    "# Number of duplicated verses\n",
    "data.duplicated().sum()"
   ]
  },
  {
   "cell_type": "code",
   "execution_count": 10,
   "id": "91a5355c",
   "metadata": {
    "ExecuteTime": {
     "end_time": "2021-06-25T17:22:16.851521Z",
     "start_time": "2021-06-25T17:22:16.842793Z"
    },
    "id": "91a5355c"
   },
   "outputs": [
    {
     "data": {
      "text/plain": [
       "0"
      ]
     },
     "execution_count": 10,
     "metadata": {},
     "output_type": "execute_result"
    }
   ],
   "source": [
    "# Drop duplicated verses\n",
    "data.drop_duplicates(inplace=True)\n",
    "\n",
    "# Check again to ensure there are 0 duplicates remaining\n",
    "data.duplicated().sum()"
   ]
  },
  {
   "cell_type": "markdown",
   "id": "3ee219b9",
   "metadata": {
    "ExecuteTime": {
     "end_time": "2021-10-31T15:21:44.178889Z",
     "start_time": "2021-10-31T15:21:44.173713Z"
    },
    "id": "3ee219b9"
   },
   "source": [
    "💾 **Run the cell below to submit your results**"
   ]
  },
  {
   "cell_type": "code",
   "execution_count": 11,
   "id": "13f8f7dd",
   "metadata": {
    "ExecuteTime": {
     "end_time": "2021-06-25T17:22:16.861084Z",
     "start_time": "2021-06-25T17:22:16.854026Z"
    },
    "id": "13f8f7dd"
   },
   "outputs": [],
   "source": [
    "from nbresult import ChallengeResult\n",
    "result = ChallengeResult(\n",
    "    'lyrics_data_loading',\n",
    "    shape=data.shape,\n",
    "    verses=data.verse[:50]\n",
    ")\n",
    "\n",
    "result.write()"
   ]
  },
  {
   "cell_type": "markdown",
   "id": "a8e1933d",
   "metadata": {
    "id": "a8e1933d"
   },
   "source": [
    "## 2. Processing (given)\n",
    "\n",
    "☑️ For this section, read carefully before running the cells, you will need to understand the processing to design an train your model"
   ]
  },
  {
   "cell_type": "markdown",
   "id": "aeb5e39d",
   "metadata": {
    "id": "aeb5e39d"
   },
   "source": [
    "📝 Transform the list of strings (verses) into a list of word sequences  \n",
    "💡 These sequences of words are stored in a new column *seq* in your **data**  \n",
    "💡 We use `tensorflow.keras.preprocessing.text.text_to_word_sequence` to achieve this"
   ]
  },
  {
   "cell_type": "code",
   "execution_count": 12,
   "id": "16f7c19e",
   "metadata": {
    "ExecuteTime": {
     "end_time": "2021-06-25T17:22:19.569442Z",
     "start_time": "2021-06-25T17:22:19.478291Z"
    },
    "id": "16f7c19e"
   },
   "outputs": [],
   "source": [
    "data[\"seq\"] = [text_to_word_sequence(verse) for verse in data[\"verse\"]]"
   ]
  },
  {
   "cell_type": "markdown",
   "id": "19d82c70",
   "metadata": {
    "id": "19d82c70"
   },
   "source": [
    "📝 Check the distribution of sequences lengths  \n",
    "💡 From this we choose to limit ourself to 300 words per verse"
   ]
  },
  {
   "cell_type": "code",
   "execution_count": 13,
   "id": "d330ad0c",
   "metadata": {
    "ExecuteTime": {
     "end_time": "2021-06-25T17:22:19.783874Z",
     "start_time": "2021-06-25T17:22:19.572393Z"
    },
    "id": "d330ad0c"
   },
   "outputs": [
    {
     "data": {
      "image/png": "[encoded data removed]",
      "text/plain": [
       "<Figure size 432x288 with 1 Axes>"
      ]
     },
     "metadata": {
      "needs_background": "light"
     },
     "output_type": "display_data"
    }
   ],
   "source": [
    "sns.kdeplot(x=data[\"seq\"].map(lambda l: len(l)),\n",
    "            hue=[x for x in data[\"artist\"]],\n",
    "            common_norm=False);"
   ]
  },
  {
   "cell_type": "markdown",
   "id": "fb24de1d",
   "metadata": {
    "id": "fb24de1d"
   },
   "source": [
    "📝 Truncate each sequences to keep only the first `300` words"
   ]
  },
  {
   "cell_type": "code",
   "execution_count": 14,
   "id": "25809e0e",
   "metadata": {
    "ExecuteTime": {
     "end_time": "2021-06-25T17:22:19.797635Z",
     "start_time": "2021-06-25T17:22:19.786221Z"
    },
    "id": "25809e0e"
   },
   "outputs": [],
   "source": [
    "data[\"seq\"] = data[\"seq\"].map(lambda x: x[:300])"
   ]
  },
  {
   "cell_type": "markdown",
   "id": "a1d8b9a8",
   "metadata": {
    "id": "a1d8b9a8"
   },
   "source": [
    "📝 Train a `gensim.models.Word2Vec` model on your dataset\n",
    "- You want to embed each word into vectors of dimension `100`\n",
    "- No words should be excluded\n",
    "- Give Word2Vec at least 50 epochs to be sure it converges\n",
    "- Store these lists of vectors in a new column `data[\"embed\"]`"
   ]
  },
  {
   "cell_type": "code",
   "execution_count": 15,
   "id": "ab278862",
   "metadata": {
    "ExecuteTime": {
     "end_time": "2021-06-25T17:22:26.587185Z",
     "start_time": "2021-06-25T17:22:19.799947Z"
    },
    "id": "ab278862"
   },
   "outputs": [],
   "source": [
    "from gensim.models import Word2Vec\n",
    "\n",
    "word2vec = Word2Vec(\n",
    "    sentences=data[\"seq\"],\n",
    "    vector_size=100,\n",
    "    window=5,\n",
    "    min_count=0,\n",
    "    epochs=50, \n",
    ")"
   ]
  },
  {
   "cell_type": "code",
   "execution_count": 16,
   "id": "e5cd7e74",
   "metadata": {
    "ExecuteTime": {
     "end_time": "2021-06-25T17:22:27.632783Z",
     "start_time": "2021-06-25T17:22:26.589556Z"
    },
    "id": "e5cd7e74"
   },
   "outputs": [
    {
     "data": {
      "text/html": [
       "<div>\n",
       "<style scoped>\n",
       "    .dataframe tbody tr th:only-of-type {\n",
       "        vertical-align: middle;\n",
       "    }\n",
       "\n",
       "    .dataframe tbody tr th {\n",
       "        vertical-align: top;\n",
       "    }\n",
       "\n",
       "    .dataframe thead th {\n",
       "        text-align: right;\n",
       "    }\n",
       "</style>\n",
       "<table border=\"1\" class=\"dataframe\">\n",
       "  <thead>\n",
       "    <tr style=\"text-align: right;\">\n",
       "      <th></th>\n",
       "      <th>artist</th>\n",
       "      <th>verse</th>\n",
       "      <th>seq</th>\n",
       "      <th>embed</th>\n",
       "    </tr>\n",
       "  </thead>\n",
       "  <tbody>\n",
       "    <tr>\n",
       "      <th>0</th>\n",
       "      <td>Drake</td>\n",
       "      <td>Ayy, woah Ayy, ayy Yeah</td>\n",
       "      <td>[ayy, woah, ayy, ayy, yeah]</td>\n",
       "      <td>[[-0.08980069, 1.4156375, -0.87224454, -1.3894...</td>\n",
       "    </tr>\n",
       "    <tr>\n",
       "      <th>1</th>\n",
       "      <td>Drake</td>\n",
       "      <td>I'm makin' a change today The liquor been taki...</td>\n",
       "      <td>[i'm, makin', a, change, today, the, liquor, b...</td>\n",
       "      <td>[[0.7934612, -2.8005424, -1.8902279, 1.9850233...</td>\n",
       "    </tr>\n",
       "    <tr>\n",
       "      <th>2</th>\n",
       "      <td>Drake</td>\n",
       "      <td>I can't just be with you and only you Yeah, I ...</td>\n",
       "      <td>[i, can't, just, be, with, you, and, only, you...</td>\n",
       "      <td>[[0.530867, 0.104570195, 0.35782775, -0.707413...</td>\n",
       "    </tr>\n",
       "    <tr>\n",
       "      <th>3</th>\n",
       "      <td>Drake</td>\n",
       "      <td>Well, summer, all I did was rest, okay? And Ne...</td>\n",
       "      <td>[well, summer, all, i, did, was, rest, okay, a...</td>\n",
       "      <td>[[-1.1186384, -0.16213237, -1.0968767, 1.74986...</td>\n",
       "    </tr>\n",
       "    <tr>\n",
       "      <th>4</th>\n",
       "      <td>Drake</td>\n",
       "      <td>I'm makin' a change today The liquor been taki...</td>\n",
       "      <td>[i'm, makin', a, change, today, the, liquor, b...</td>\n",
       "      <td>[[0.7934612, -2.8005424, -1.8902279, 1.9850233...</td>\n",
       "    </tr>\n",
       "    <tr>\n",
       "      <th>...</th>\n",
       "      <td>...</td>\n",
       "      <td>...</td>\n",
       "      <td>...</td>\n",
       "      <td>...</td>\n",
       "    </tr>\n",
       "    <tr>\n",
       "      <th>3970</th>\n",
       "      <td>Kanye West</td>\n",
       "      <td>Dame was like, \"Yo you got a deal with Capitol...</td>\n",
       "      <td>[dame, was, like, yo, you, got, a, deal, with,...</td>\n",
       "      <td>[[0.542471, 0.37421998, 0.7749202, 0.36682132,...</td>\n",
       "    </tr>\n",
       "    <tr>\n",
       "      <th>3971</th>\n",
       "      <td>Kanye West</td>\n",
       "      <td>Then one day I just went ahead and played it, ...</td>\n",
       "      <td>[then, one, day, i, just, went, ahead, and, pl...</td>\n",
       "      <td>[[1.0814415, 0.8764531, -0.006815861, -1.81089...</td>\n",
       "    </tr>\n",
       "    <tr>\n",
       "      <th>3972</th>\n",
       "      <td>Kanye West</td>\n",
       "      <td>\"I ain't gonna front, it's kinda hot.\"</td>\n",
       "      <td>[i, ain't, gonna, front, it's, kinda, hot]</td>\n",
       "      <td>[[0.530867, 0.104570195, 0.35782775, -0.707413...</td>\n",
       "    </tr>\n",
       "    <tr>\n",
       "      <th>3973</th>\n",
       "      <td>Kanye West</td>\n",
       "      <td>Like they still weren't looking at me like a r...</td>\n",
       "      <td>[like, they, still, weren't, looking, at, me, ...</td>\n",
       "      <td>[[-2.1082494, 2.5489874, 0.98314595, -0.310689...</td>\n",
       "    </tr>\n",
       "    <tr>\n",
       "      <th>3974</th>\n",
       "      <td>Kanye West</td>\n",
       "      <td>\"You gotta be under an umbrella, you'll get ra...</td>\n",
       "      <td>[you, gotta, be, under, an, umbrella, you'll, ...</td>\n",
       "      <td>[[0.51669353, -0.14157432, -1.2219806, -0.1027...</td>\n",
       "    </tr>\n",
       "  </tbody>\n",
       "</table>\n",
       "<p>3031 rows × 4 columns</p>\n",
       "</div>"
      ],
      "text/plain": [
       "          artist                                              verse  \\\n",
       "0          Drake                            Ayy, woah Ayy, ayy Yeah   \n",
       "1          Drake  I'm makin' a change today The liquor been taki...   \n",
       "2          Drake  I can't just be with you and only you Yeah, I ...   \n",
       "3          Drake  Well, summer, all I did was rest, okay? And Ne...   \n",
       "4          Drake  I'm makin' a change today The liquor been taki...   \n",
       "...          ...                                                ...   \n",
       "3970  Kanye West  Dame was like, \"Yo you got a deal with Capitol...   \n",
       "3971  Kanye West  Then one day I just went ahead and played it, ...   \n",
       "3972  Kanye West             \"I ain't gonna front, it's kinda hot.\"   \n",
       "3973  Kanye West  Like they still weren't looking at me like a r...   \n",
       "3974  Kanye West  \"You gotta be under an umbrella, you'll get ra...   \n",
       "\n",
       "                                                    seq  \\\n",
       "0                           [ayy, woah, ayy, ayy, yeah]   \n",
       "1     [i'm, makin', a, change, today, the, liquor, b...   \n",
       "2     [i, can't, just, be, with, you, and, only, you...   \n",
       "3     [well, summer, all, i, did, was, rest, okay, a...   \n",
       "4     [i'm, makin', a, change, today, the, liquor, b...   \n",
       "...                                                 ...   \n",
       "3970  [dame, was, like, yo, you, got, a, deal, with,...   \n",
       "3971  [then, one, day, i, just, went, ahead, and, pl...   \n",
       "3972         [i, ain't, gonna, front, it's, kinda, hot]   \n",
       "3973  [like, they, still, weren't, looking, at, me, ...   \n",
       "3974  [you, gotta, be, under, an, umbrella, you'll, ...   \n",
       "\n",
       "                                                  embed  \n",
       "0     [[-0.08980069, 1.4156375, -0.87224454, -1.3894...  \n",
       "1     [[0.7934612, -2.8005424, -1.8902279, 1.9850233...  \n",
       "2     [[0.530867, 0.104570195, 0.35782775, -0.707413...  \n",
       "3     [[-1.1186384, -0.16213237, -1.0968767, 1.74986...  \n",
       "4     [[0.7934612, -2.8005424, -1.8902279, 1.9850233...  \n",
       "...                                                 ...  \n",
       "3970  [[0.542471, 0.37421998, 0.7749202, 0.36682132,...  \n",
       "3971  [[1.0814415, 0.8764531, -0.006815861, -1.81089...  \n",
       "3972  [[0.530867, 0.104570195, 0.35782775, -0.707413...  \n",
       "3973  [[-2.1082494, 2.5489874, 0.98314595, -0.310689...  \n",
       "3974  [[0.51669353, -0.14157432, -1.2219806, -0.1027...  \n",
       "\n",
       "[3031 rows x 4 columns]"
      ]
     },
     "execution_count": 16,
     "metadata": {},
     "output_type": "execute_result"
    }
   ],
   "source": [
    "data['embed'] = [[word2vec.wv[word] for word in verse] \n",
    "                 for verse in data['seq']]\n",
    "data"
   ]
  },
  {
   "cell_type": "markdown",
   "id": "ac783bca",
   "metadata": {
    "id": "ac783bca"
   },
   "source": [
    "📝  Create your a `ndarray` **X** of shape $(number\\_of\\_verses,\\ maximum\\_sequence\\_length,\\ embedding\\_size)$\n",
    "\n",
    "💡 Keep 300 words per verse (verses shorter than 300 are padded with zeros at the end) "
   ]
  },
  {
   "cell_type": "code",
   "execution_count": 17,
   "id": "84386d9d",
   "metadata": {
    "ExecuteTime": {
     "end_time": "2021-06-25T17:22:28.272086Z",
     "start_time": "2021-06-25T17:22:27.638449Z"
    },
    "id": "84386d9d"
   },
   "outputs": [
    {
     "data": {
      "text/plain": [
       "(3031, 300, 100)"
      ]
     },
     "execution_count": 17,
     "metadata": {},
     "output_type": "execute_result"
    }
   ],
   "source": [
    "X = pad_sequences(\n",
    "    data[\"embed\"],\n",
    "    dtype='float',\n",
    "    padding='post'\n",
    ")\n",
    "X.shape"
   ]
  },
  {
   "cell_type": "markdown",
   "id": "1df39cad",
   "metadata": {
    "id": "1df39cad"
   },
   "source": [
    "📝  Create your a `ndarray` **y** of shape $(number\\_of\\_verses,\\ number\\_of\\_classes)$ that contains the one-hot encoded list of labels "
   ]
  },
  {
   "cell_type": "code",
   "execution_count": 18,
   "id": "9aa1a1ad",
   "metadata": {
    "ExecuteTime": {
     "end_time": "2021-06-25T17:22:28.394015Z",
     "start_time": "2021-06-25T17:22:28.274638Z"
    },
    "id": "9aa1a1ad"
   },
   "outputs": [
    {
     "data": {
      "text/plain": [
       "(3031, 3)"
      ]
     },
     "execution_count": 18,
     "metadata": {},
     "output_type": "execute_result"
    }
   ],
   "source": [
    "y = OneHotEncoder().fit_transform(data[['artist']]).toarray()\n",
    "y.shape"
   ]
  },
  {
   "cell_type": "markdown",
   "id": "6980b008",
   "metadata": {
    "id": "6980b008"
   },
   "source": [
    "📝 Split the dataset to create both the train and test sets"
   ]
  },
  {
   "cell_type": "code",
   "execution_count": 19,
   "id": "d4249164",
   "metadata": {
    "ExecuteTime": {
     "end_time": "2021-06-25T17:22:29.558686Z",
     "start_time": "2021-06-25T17:22:28.400774Z"
    },
    "id": "d4249164"
   },
   "outputs": [],
   "source": [
    "X_train, X_test, y_train, y_test = train_test_split(X, y, test_size=0.2)"
   ]
  },
  {
   "cell_type": "markdown",
   "id": "0934d431",
   "metadata": {
    "ExecuteTime": {
     "end_time": "2021-10-31T15:21:44.178889Z",
     "start_time": "2021-10-31T15:21:44.173713Z"
    },
    "id": "0934d431"
   },
   "source": [
    "💾 **Run the cell below to submit your results**"
   ]
  },
  {
   "cell_type": "code",
   "execution_count": 20,
   "id": "2350cfde",
   "metadata": {
    "ExecuteTime": {
     "end_time": "2021-06-25T17:22:29.803743Z",
     "start_time": "2021-06-25T17:22:29.563431Z"
    },
    "id": "2350cfde"
   },
   "outputs": [],
   "source": [
    "from nbresult import ChallengeResult\n",
    "result = ChallengeResult(\n",
    "    'lyrics_data_preprocessing',\n",
    "    n_zeros = np.sum(X == 0),\n",
    "    X_shape = X.shape,\n",
    "    y_shape = y.shape,\n",
    ")\n",
    "\n",
    "result.write()"
   ]
  },
  {
   "cell_type": "markdown",
   "id": "f666e449",
   "metadata": {
    "id": "f666e449"
   },
   "source": [
    "## 3. Recurrent Neural Network"
   ]
  },
  {
   "cell_type": "markdown",
   "id": "b9017ce5",
   "metadata": {
    "id": "b9017ce5"
   },
   "source": [
    "*C15 Maîtriser les différentes architectures de réseau de neurones : convolutifs pour les images & récurrents pour les séries temporelles et les modèles de traitement automatique du langage (NLP) pour le texte (50%)*  \n",
    "\n",
    "*C17 Utiliser un réseau de neurones pour comprendre l'intention d'une phrase en langage naturel (100%)*"
   ]
  },
  {
   "cell_type": "markdown",
   "id": "3df4efd3",
   "metadata": {
    "id": "3df4efd3"
   },
   "source": [
    "📝 Store in **score_baseline** your baseline score  \n",
    "☑️ Use the Accuracy  \n",
    "☑️ Your baseline is the 'dumb' case where you predict only the most frequent artist"
   ]
  },
  {
   "cell_type": "code",
   "execution_count": 25,
   "id": "ddb30c0f",
   "metadata": {
    "ExecuteTime": {
     "end_time": "2021-06-25T17:22:33.555223Z",
     "start_time": "2021-06-25T17:22:33.547120Z"
    },
    "id": "ddb30c0f",
    "tags": [
     "challengify"
    ]
   },
   "outputs": [],
   "source": [
    "score_baseline = 1/3"
   ]
  },
  {
   "cell_type": "markdown",
   "id": "b633c37e",
   "metadata": {
    "id": "b633c37e"
   },
   "source": [
    "📝 Store in **model** using `Sequential`\n",
    "❓ **Create a RNN architecture to predict the artists `y`  given verses `X`** :\n",
    "\n",
    "☑️ Use a recurrent neural network architecture  \n",
    "☑️ Keep it simple: use only one LSTM or GRU layer  \n",
    "☑️ Limit yourself to one *hidden* dense layer between the LSTM/GRU layer and the output layer  \n",
    "☑️ Don't forget to take care of the fake \"zeros\" added when padding"
   ]
  },
  {
   "cell_type": "code",
   "execution_count": 29,
   "id": "c4775201",
   "metadata": {
    "ExecuteTime": {
     "end_time": "2021-06-25T17:27:09.448283Z",
     "start_time": "2021-06-25T17:27:08.796094Z"
    },
    "id": "c4775201",
    "tags": [
     "challengify"
    ]
   },
   "outputs": [],
   "source": [
    "from tensorflow.keras import Sequential\n",
    "from tensorflow.keras.layers.experimental.preprocessing import Normalization\n",
    "from tensorflow.keras.layers import Dense, SimpleRNN, Flatten\n",
    "\n",
    "normalizer = Normalization()\n",
    "model = Sequential()\n",
    "model.add(normalizer)\n",
    "\n",
    "model.add(LSTM(units=20, activation='tanh'))\n",
    "model.add(LSTM(units=20, activation='tanh'))\n",
    "model.add(Dense(10, activation='relu'))\n",
    "model.add(Dense(3, activation='softmax'))\n",
    "# To finish"
   ]
  },
  {
   "cell_type": "markdown",
   "id": "da8d9b97",
   "metadata": {
    "id": "da8d9b97"
   },
   "source": [
    "📝 Train your **model**\n",
    "\n",
    "☑️ Use an appropriate loss for the task at hand  \n",
    "☑️ Make sure your model does not overfit\n",
    "\n",
    "💡 You will not be judged by the computing power of your computer, your training should last under 3 minutes"
   ]
  },
  {
   "cell_type": "code",
   "execution_count": null,
   "id": "e2af9a5a",
   "metadata": {
    "ExecuteTime": {
     "end_time": "2021-06-25T17:28:13.790957Z",
     "start_time": "2021-06-25T17:27:09.537171Z"
    },
    "id": "e2af9a5a",
    "tags": [
     "challengify"
    ]
   },
   "outputs": [],
   "source": [
    "# YOUR CODE HERE"
   ]
  },
  {
   "cell_type": "markdown",
   "id": "3f464ba4",
   "metadata": {
    "id": "3f464ba4"
   },
   "source": [
    "📝 Plot your training and validation loss at each epoch  \n",
    "☑️ Save your figure as **history_rnn.png** in the **tests/** directory  \n",
    "☑️ Make sure to keep the code below at the end of the cell that contains your plots  \n",
    "```python\n",
    "fig = plt.gcf()\n",
    "fig.savefig(\"tests/history_rnn.png\")\n",
    "```"
   ]
  },
  {
   "cell_type": "code",
   "execution_count": null,
   "id": "c959e1fc",
   "metadata": {
    "ExecuteTime": {
     "end_time": "2021-06-25T17:28:13.814449Z",
     "start_time": "2021-06-25T17:28:13.793297Z"
    },
    "id": "c959e1fc"
   },
   "outputs": [],
   "source": [
    "# Plot below your train/val loss history\n",
    "# YOUR CODE HERE\n",
    "# YOUR CODE HERE\n",
    "# YOUR CODE HERE\n",
    "\n",
    "\n",
    "# Run also this code to save figure as jpg in path below (it's your job to ensure it works)\n",
    "fig = plt.gcf()\n",
    "plt.savefig(\"tests/history_rnn.png\")"
   ]
  },
  {
   "cell_type": "markdown",
   "id": "4c161566",
   "metadata": {
    "id": "4c161566"
   },
   "source": [
    "📝 Evaluate your performances on your test set  \n",
    "☑️ Use the `evaluate` method a `Sequential` model to do so  \n",
    "☑️ Store the resulting accuracy score in **score_test**"
   ]
  },
  {
   "cell_type": "code",
   "execution_count": null,
   "id": "673ca947",
   "metadata": {
    "ExecuteTime": {
     "end_time": "2021-06-25T17:29:15.350717Z",
     "start_time": "2021-06-25T17:29:14.925473Z"
    },
    "id": "673ca947",
    "tags": [
     "challengify"
    ]
   },
   "outputs": [],
   "source": [
    "# YOUR CODE HERE"
   ]
  },
  {
   "cell_type": "markdown",
   "id": "dd4c303e",
   "metadata": {
    "ExecuteTime": {
     "end_time": "2021-10-31T15:21:44.178889Z",
     "start_time": "2021-10-31T15:21:44.173713Z"
    },
    "id": "dd4c303e"
   },
   "source": [
    "💾 **Run the cell below to submit your results**"
   ]
  },
  {
   "cell_type": "code",
   "execution_count": null,
   "id": "158b7b52",
   "metadata": {
    "ExecuteTime": {
     "end_time": "2021-06-25T17:25:11.216908Z",
     "start_time": "2021-06-25T17:25:11.208773Z"
    },
    "id": "158b7b52"
   },
   "outputs": [],
   "source": [
    "from nbresult import ChallengeResult\n",
    "\n",
    "result = ChallengeResult(\n",
    "    \"lyrics_network\",\n",
    "    loss = model.loss,\n",
    "    input_shape = list(model.input.shape),\n",
    "    layer_names = [layer.name for layer in model.layers],\n",
    "    final_activation = model.layers[-1].activation.__wrapped__._keras_api_names[0],\n",
    "    score_baseline = score_baseline,\n",
    "    score_test = score_test,\n",
    ")\n",
    "result.write()"
   ]
  }
 ],
 "metadata": {
  "accelerator": "GPU",
  "colab": {
   "collapsed_sections": [],
   "name": "paintings_denoising_lyrics_detector.ipynb",
   "provenance": []
  },
  "gpuClass": "standard",
  "kernelspec": {
   "display_name": "Python 3 (ipykernel)",
   "language": "python",
   "name": "python3"
  },
  "language_info": {
   "codemirror_mode": {
    "name": "ipython",
    "version": 3
   },
   "file_extension": ".py",
   "mimetype": "text/x-python",
   "name": "python",
   "nbconvert_exporter": "python",
   "pygments_lexer": "ipython3",
   "version": "3.9.7"
  },
  "toc": {
   "base_numbering": 1,
   "nav_menu": {},
   "number_sections": false,
   "sideBar": true,
   "skip_h1_title": false,
   "title_cell": "Table of Contents",
   "title_sidebar": "Contents",
   "toc_cell": false,
   "toc_position": {},
   "toc_section_display": true,
   "toc_window_display": true
  },
  "varInspector": {
   "cols": {
    "lenName": 16,
    "lenType": 16,
    "lenVar": 40
   },
   "kernels_config": {
    "python": {
     "delete_cmd_postfix": "",
     "delete_cmd_prefix": "del ",
     "library": "var_list.py",
     "varRefreshCmd": "print(var_dic_list())"
    },
    "r": {
     "delete_cmd_postfix": ") ",
     "delete_cmd_prefix": "rm(",
     "library": "var_list.r",
     "varRefreshCmd": "cat(var_dic_list()) "
    }
   },
   "types_to_exclude": [
    "module",
    "function",
    "builtin_function_or_method",
    "instance",
    "_Feature"
   ],
   "window_display": false
  },
  "widgets": {
   "application/vnd.jupyter.widget-state+json": {
    "2eafcf3a0c76460a95a2bfddc28cb61b": {
     "model_module": "@jupyter-widgets/controls",
     "model_module_version": "1.5.0",
     "model_name": "VBoxModel",
     "state": {
      "_dom_classes": [
       "widget-interact"
      ],
      "_model_module": "@jupyter-widgets/controls",
      "_model_module_version": "1.5.0",
      "_model_name": "VBoxModel",
      "_view_count": null,
      "_view_module": "@jupyter-widgets/controls",
      "_view_module_version": "1.5.0",
      "_view_name": "VBoxView",
      "box_style": "",
      "children": [
       "IPY_MODEL_30750384a9cc44c18e941248db7514fc",
       "IPY_MODEL_5f2d07982ba140bb9b3d5264519d8417"
      ],
      "layout": "IPY_MODEL_38d92dd33d274530add542160d462cba"
     }
    },
    "30750384a9cc44c18e941248db7514fc": {
     "model_module": "@jupyter-widgets/controls",
     "model_module_version": "1.5.0",
     "model_name": "DropdownModel",
     "state": {
      "_dom_classes": [],
      "_model_module": "@jupyter-widgets/controls",
      "_model_module_version": "1.5.0",
      "_model_name": "DropdownModel",
      "_options_labels": [
       "0",
       "1",
       "2",
       "3",
       "4",
       "5",
       "6",
       "7",
       "8",
       "9",
       "10",
       "11",
       "12",
       "13",
       "14",
       "15",
       "16",
       "17",
       "18",
       "19",
       "20",
       "21",
       "22",
       "23",
       "24",
       "25",
       "26",
       "27",
       "28",
       "29",
       "30",
       "31",
       "32",
       "33",
       "34",
       "35",
       "36",
       "37",
       "38",
       "39",
       "40",
       "41",
       "42",
       "43",
       "44",
       "45",
       "46",
       "47",
       "48",
       "49",
       "50",
       "51",
       "52",
       "53",
       "54",
       "55",
       "56",
       "57",
       "58",
       "59",
       "60",
       "61",
       "62",
       "63",
       "64",
       "65",
       "66",
       "67",
       "68",
       "69",
       "70",
       "71",
       "72",
       "73",
       "74",
       "75",
       "76",
       "77",
       "78",
       "79",
       "80",
       "81",
       "82",
       "83",
       "84",
       "85",
       "86",
       "87",
       "88",
       "89",
       "90",
       "91",
       "92",
       "93",
       "94",
       "95",
       "96",
       "97",
       "98",
       "99"
      ],
      "_view_count": null,
      "_view_module": "@jupyter-widgets/controls",
      "_view_module_version": "1.5.0",
      "_view_name": "DropdownView",
      "description": "index",
      "description_tooltip": null,
      "disabled": false,
      "index": 11,
      "layout": "IPY_MODEL_4a8d5c6f7f9b45959ffbdb7091b792cf",
      "style": "IPY_MODEL_a381fb158c25400493009e43836f8ecf"
     }
    },
    "38d92dd33d274530add542160d462cba": {
     "model_module": "@jupyter-widgets/base",
     "model_module_version": "1.2.0",
     "model_name": "LayoutModel",
     "state": {
      "_model_module": "@jupyter-widgets/base",
      "_model_module_version": "1.2.0",
      "_model_name": "LayoutModel",
      "_view_count": null,
      "_view_module": "@jupyter-widgets/base",
      "_view_module_version": "1.2.0",
      "_view_name": "LayoutView",
      "align_content": null,
      "align_items": null,
      "align_self": null,
      "border": null,
      "bottom": null,
      "display": null,
      "flex": null,
      "flex_flow": null,
      "grid_area": null,
      "grid_auto_columns": null,
      "grid_auto_flow": null,
      "grid_auto_rows": null,
      "grid_column": null,
      "grid_gap": null,
      "grid_row": null,
      "grid_template_areas": null,
      "grid_template_columns": null,
      "grid_template_rows": null,
      "height": null,
      "justify_content": null,
      "justify_items": null,
      "left": null,
      "margin": null,
      "max_height": null,
      "max_width": null,
      "min_height": null,
      "min_width": null,
      "object_fit": null,
      "object_position": null,
      "order": null,
      "overflow": null,
      "overflow_x": null,
      "overflow_y": null,
      "padding": null,
      "right": null,
      "top": null,
      "visibility": null,
      "width": null
     }
    },
    "4a8d5c6f7f9b45959ffbdb7091b792cf": {
     "model_module": "@jupyter-widgets/base",
     "model_module_version": "1.2.0",
     "model_name": "LayoutModel",
     "state": {
      "_model_module": "@jupyter-widgets/base",
      "_model_module_version": "1.2.0",
      "_model_name": "LayoutModel",
      "_view_count": null,
      "_view_module": "@jupyter-widgets/base",
      "_view_module_version": "1.2.0",
      "_view_name": "LayoutView",
      "align_content": null,
      "align_items": null,
      "align_self": null,
      "border": null,
      "bottom": null,
      "display": null,
      "flex": null,
      "flex_flow": null,
      "grid_area": null,
      "grid_auto_columns": null,
      "grid_auto_flow": null,
      "grid_auto_rows": null,
      "grid_column": null,
      "grid_gap": null,
      "grid_row": null,
      "grid_template_areas": null,
      "grid_template_columns": null,
      "grid_template_rows": null,
      "height": null,
      "justify_content": null,
      "justify_items": null,
      "left": null,
      "margin": null,
      "max_height": null,
      "max_width": null,
      "min_height": null,
      "min_width": null,
      "object_fit": null,
      "object_position": null,
      "order": null,
      "overflow": null,
      "overflow_x": null,
      "overflow_y": null,
      "padding": null,
      "right": null,
      "top": null,
      "visibility": null,
      "width": null
     }
    },
    "5f2d07982ba140bb9b3d5264519d8417": {
     "model_module": "@jupyter-widgets/output",
     "model_module_version": "1.0.0",
     "model_name": "OutputModel",
     "state": {
      "_dom_classes": [],
      "_model_module": "@jupyter-widgets/output",
      "_model_module_version": "1.0.0",
      "_model_name": "OutputModel",
      "_view_count": null,
      "_view_module": "@jupyter-widgets/output",
      "_view_module_version": "1.0.0",
      "_view_name": "OutputView",
      "layout": "IPY_MODEL_f84b603131b74cf798dd26a957d6ef70",
      "msg_id": "",
      "outputs": [
       {
        "data": {
         "image/png": "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\n",
         "text/plain": "<Figure size 720x360 with 3 Axes>"
        },
        "metadata": {
         "needs_background": "light"
        },
        "output_type": "display_data"
       }
      ]
     }
    },
    "a381fb158c25400493009e43836f8ecf": {
     "model_module": "@jupyter-widgets/controls",
     "model_module_version": "1.5.0",
     "model_name": "DescriptionStyleModel",
     "state": {
      "_model_module": "@jupyter-widgets/controls",
      "_model_module_version": "1.5.0",
      "_model_name": "DescriptionStyleModel",
      "_view_count": null,
      "_view_module": "@jupyter-widgets/base",
      "_view_module_version": "1.2.0",
      "_view_name": "StyleView",
      "description_width": ""
     }
    },
    "f84b603131b74cf798dd26a957d6ef70": {
     "model_module": "@jupyter-widgets/base",
     "model_module_version": "1.2.0",
     "model_name": "LayoutModel",
     "state": {
      "_model_module": "@jupyter-widgets/base",
      "_model_module_version": "1.2.0",
      "_model_name": "LayoutModel",
      "_view_count": null,
      "_view_module": "@jupyter-widgets/base",
      "_view_module_version": "1.2.0",
      "_view_name": "LayoutView",
      "align_content": null,
      "align_items": null,
      "align_self": null,
      "border": null,
      "bottom": null,
      "display": null,
      "flex": null,
      "flex_flow": null,
      "grid_area": null,
      "grid_auto_columns": null,
      "grid_auto_flow": null,
      "grid_auto_rows": null,
      "grid_column": null,
      "grid_gap": null,
      "grid_row": null,
      "grid_template_areas": null,
      "grid_template_columns": null,
      "grid_template_rows": null,
      "height": null,
      "justify_content": null,
      "justify_items": null,
      "left": null,
      "margin": null,
      "max_height": null,
      "max_width": null,
      "min_height": null,
      "min_width": null,
      "object_fit": null,
      "object_position": null,
      "order": null,
      "overflow": null,
      "overflow_x": null,
      "overflow_y": null,
      "padding": null,
      "right": null,
      "top": null,
      "visibility": null,
      "width": null
     }
    }
   }
  }
 },
 "nbformat": 4,
 "nbformat_minor": 5
}
